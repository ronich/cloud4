{
 "cells": [
  {
   "cell_type": "code",
   "execution_count": 31,
   "metadata": {
    "collapsed": false
   },
   "outputs": [],
   "source": [
    "import boto3, subprocess\n",
    "import datetime\n",
    "import time\n",
    "import pandas as pd\n",
    "import numpy as np\n",
    "import fabric\n",
    "from fabric.api import run, hide"
   ]
  },
  {
   "cell_type": "code",
   "execution_count": 32,
   "metadata": {
    "collapsed": false
   },
   "outputs": [],
   "source": [
    "class benchmark:\n",
    "    def __init__(self, experiments, instance_type, image_id=\"ami-a3b3d4b5\", key_name='dpcld_test1'):\n",
    "        self.experiments = experiments\n",
    "        self.instance_type = instance_type\n",
    "        self.image_id = image_id\n",
    "        self.key_name = key_name\n",
    "        self.run_date = datetime.date.strftime(datetime.date.today(), '%Y%m%d')\n",
    "        self.client = boto3.client('ec2')\n",
    "        self.ec2 = boto3.resource('ec2')\n",
    "        self.p_ids = []      \n",
    "        #self.instances = self.setUpInstances()\n",
    "        \n",
    "        #self.configureInstances()\n",
    "        \n",
    "    def setUpInstances(self):\n",
    "        num_inst = len(experiments)\n",
    "        \n",
    "        response = self.client.run_instances(ImageId=self.image_id,\n",
    "                                InstanceType=self.instance_type,\n",
    "                                MinCount=num_inst,\n",
    "                                MaxCount=num_inst,\n",
    "                                KeyName=self.key_name)\n",
    "\n",
    "        assert response.get('ResponseMetadata').get('HTTPStatusCode') == 200, \"Request ended with an error (HTTPStatusCode != 200)\"\n",
    "        assert len(response.get('Instances')) == num_inst, \"Number of instances launched is equal to specified\"\n",
    "        \n",
    "        instance_ids = []\n",
    "        instance_ids.extend([_.get('InstanceId') for _ in response.get('Instances')])\n",
    "              \n",
    "        waiter = self.client.get_waiter('instance_status_ok')\n",
    "        waiter.wait(InstanceIds=instance_ids)\n",
    "        \n",
    "        print('Set up instances: {}'.format(' '.join(instance_ids)))\n",
    "        \n",
    "        self.instances = [self.ec2.Instance(_) for _ in instance_ids]\n",
    "        \n",
    "        #return [self.ec2.Instance(_) for _ in instance_ids]\n",
    "    \n",
    "    def configureInstances(self):\n",
    "        [self.configureInstance(i, e) for i, e in zip(self.instances, self.experiments)]\n",
    "    \n",
    "    def configureInstance(self, instance, experiment):\n",
    "        instance.create_tags(Tags=[{'Key':'Name', 'Value':'{}_{} experiment'.format(*experiment)}])\n",
    "        fabric.api.env.host_string = 'ec2-user@{}'.format(instance.public_dns_name)\n",
    "        fabric.api.env.key_filename = '~/.ssh/{}.pem'.format(self.key_name)\n",
    "        fabric.api.env.disable_known_hosts\n",
    "        fabric.api.hide('output')\n",
    "        fabric.operations.put('~/Studia/mgr/deepcloud/tests/test_{}_{}.py'.format(*experiment), '.')\n",
    "        run('sudo pip3 install git+git://github.com/fchollet/keras.git --upgrade')\n",
    "        run('sudo pip3 install pydot')\n",
    "        run('sudo pip3 install graphviz')\n",
    "        \n",
    "    def runExperiments(self):\n",
    "        [self.runExperiment(i, e) for i, e in zip(self.instances, self.experiments)]\n",
    "        \n",
    "    def runExperiment(self, instance, experiment):\n",
    "        fabric.api.env.host_string = 'ec2-user@{}'.format(instance.public_dns_name)\n",
    "        run('nohup python3 -u test_{0}_{1}.py \\\n",
    "        --dataset {0} --architecture {1} --run_date {2} \\\n",
    "        >{2}_{0}_{1}.log 2>{2}_{0}_{1}.err < /dev/null &'.format(*experiment, self.run_date), pty=False)\n",
    "        self.p_ids.append((instance.id, run('pgrep -f \"python3 -u test\"')))\n",
    "\n",
    "    def getExperimentLogs(self):\n",
    "        running_instances = self.instances\n",
    "        \n",
    "        while running_instances:\n",
    "            for instance in self.instances:\n",
    "                fabric.api.env.host_string = 'ec2-user@{}'.format(instance.public_dns_name)\n",
    "                \n",
    "                status = benchmark_td1.client.describe_instance_status(InstanceIds=[instance.id])\\\n",
    "                .get('InstanceStatuses')[0]\\\n",
    "                .get('InstanceState')\\\n",
    "                .get('Name')\n",
    "\n",
    "                if status != 'running':\n",
    "                    print('Instance {} not running'.format(instance.id))\n",
    "                    running_instances.remove(instance)\n",
    "                    continue\n",
    "                    \n",
    "                rSync(instance.public_dns_name)\n",
    "                \n",
    "                try:\n",
    "                    run('pgrep -f \"python3 -u test\"')\n",
    "                except:\n",
    "                    print('Process on instance {} not found'.format(instance.id))\n",
    "                    running_instances.remove(instance)\n",
    "                    continue\n",
    "                    \n",
    "                time.sleep(1)\n",
    "                \n",
    "            print('{}: synchronized logs from all instances'.format(datetime.datetime.now().isoformat()))\n",
    "        else:\n",
    "            print('All instances are down or finished their tasks')\n",
    "\n",
    "    def rSync(self, public_dns):\n",
    "        fabric.operations.local('rsync -aL -e \"ssh -i ~/.ssh/{}.pem -o StrictHostKeyChecking=no\" \\\n",
    "        --include=\"/home/ec2-user/*\" --include=\"*.log\" --include=\"*.err\" \\\n",
    "        --include=\"*.out\" --include=\"*.png\" --exclude=\"*\" \\\n",
    "        ec2-user@{}:/home/ec2-user/ \\\n",
    "        ~/Studia/mgr/deepcloud/tests/logs/'\\\n",
    "                                .format(self.key_name, public_dns))\n",
    "        \n"
   ]
  },
  {
   "cell_type": "code",
   "execution_count": 33,
   "metadata": {
    "collapsed": false
   },
   "outputs": [],
   "source": [
    "experiments = [(\"mnist\",\"kerasdef\")]"
   ]
  },
  {
   "cell_type": "code",
   "execution_count": 34,
   "metadata": {
    "collapsed": false
   },
   "outputs": [],
   "source": [
    "benchmark_td1 = benchmark(experiments=experiments,instance_type='t2.micro')"
   ]
  },
  {
   "cell_type": "code",
   "execution_count": 35,
   "metadata": {
    "collapsed": false
   },
   "outputs": [
    {
     "name": "stdout",
     "output_type": "stream",
     "text": [
      "Set up instances: i-01c58e8874cc31f8e\n"
     ]
    }
   ],
   "source": [
    "benchmark_td1.setUpInstances()"
   ]
  },
  {
   "cell_type": "code",
   "execution_count": 36,
   "metadata": {
    "collapsed": false
   },
   "outputs": [
    {
     "name": "stdout",
     "output_type": "stream",
     "text": [
      "[ec2-user@ec2-52-90-26-203.compute-1.amazonaws.com] put: /home/roni/Studia/mgr/deepcloud/tests/test_mnist_kerasdef.py -> ./test_mnist_kerasdef.py\n",
      "[ec2-user@ec2-52-90-26-203.compute-1.amazonaws.com] run: sudo pip3 install git+git://github.com/fchollet/keras.git --upgrade\n",
      "[ec2-user@ec2-52-90-26-203.compute-1.amazonaws.com] out: Collecting git+git://github.com/fchollet/keras.git\n",
      "[ec2-user@ec2-52-90-26-203.compute-1.amazonaws.com] out:   Cloning git://github.com/fchollet/keras.git to /tmp/pip-gcg9q88x-build\n",
      "[ec2-user@ec2-52-90-26-203.compute-1.amazonaws.com] out: Collecting theano (from Keras==2.0.4)\n",
      "[ec2-user@ec2-52-90-26-203.compute-1.amazonaws.com] out:   Downloading Theano-0.9.0.tar.gz (3.1MB)\n",
      "[ec2-user@ec2-52-90-26-203.compute-1.amazonaws.com] out: \u001b[?25l\n",
      "[ec2-user@ec2-52-90-26-203.compute-1.amazonaws.com] out: \u001b[K    0% |                                | 10kB 8.8MB/s eta 0:00:01\n",
      "[ec2-user@ec2-52-90-26-203.compute-1.amazonaws.com] out: \u001b[K    0% |▏                               | 20kB 7.4MB/s eta 0:00:01\n",
      "[ec2-user@ec2-52-90-26-203.compute-1.amazonaws.com] out: \u001b[K    0% |▎                               | 30kB 5.8MB/s eta 0:00:01\n",
      "[ec2-user@ec2-52-90-26-203.compute-1.amazonaws.com] out: \u001b[K    1% |▍                               | 40kB 5.1MB/s eta 0:00:01\n",
      "[ec2-user@ec2-52-90-26-203.compute-1.amazonaws.com] out: \u001b[K    1% |▌                               | 51kB 4.7MB/s eta 0:00:01\n",
      "[ec2-user@ec2-52-90-26-203.compute-1.amazonaws.com] out: \u001b[K    1% |▋                               | 61kB 5.5MB/s eta 0:00:01\n",
      "[ec2-user@ec2-52-90-26-203.compute-1.amazonaws.com] out: \u001b[K    2% |▊                               | 71kB 5.5MB/s eta 0:00:01\n",
      "[ec2-user@ec2-52-90-26-203.compute-1.amazonaws.com] out: \u001b[K    2% |▉                               | 81kB 5.6MB/s eta 0:00:01\n",
      "[ec2-user@ec2-52-90-26-203.compute-1.amazonaws.com] out: \u001b[K    2% |█                               | 92kB 6.2MB/s eta 0:00:01\n",
      "[ec2-user@ec2-52-90-26-203.compute-1.amazonaws.com] out: \u001b[K    3% |█                               | 102kB 6.1MB/s eta 0:00:01\n",
      "[ec2-user@ec2-52-90-26-203.compute-1.amazonaws.com] out: \u001b[K    3% |█▏                              | 112kB 6.4MB/s eta 0:00:01\n",
      "[ec2-user@ec2-52-90-26-203.compute-1.amazonaws.com] out: \u001b[K    3% |█▎                              | 122kB 6.5MB/s eta 0:00:01\n",
      "[ec2-user@ec2-52-90-26-203.compute-1.amazonaws.com] out: \u001b[K    4% |█▍                              | 133kB 7.3MB/s eta 0:00:01\n",
      "[ec2-user@ec2-52-90-26-203.compute-1.amazonaws.com] out: \u001b[K    4% |█▌                              | 143kB 8.9MB/s eta 0:00:01\n",
      "[ec2-user@ec2-52-90-26-203.compute-1.amazonaws.com] out: \u001b[K    4% |█▋                              | 153kB 10.2MB/s eta 0:00:01\n",
      "[ec2-user@ec2-52-90-26-203.compute-1.amazonaws.com] out: \u001b[K    5% |█▊                              | 163kB 8.9MB/s eta 0:00:01\n",
      "[ec2-user@ec2-52-90-26-203.compute-1.amazonaws.com] out: \u001b[K    5% |█▉                              | 174kB 10.4MB/s eta 0:00:01\n",
      "[ec2-user@ec2-52-90-26-203.compute-1.amazonaws.com] out: \u001b[K    5% |██                              | 184kB 11.9MB/s eta 0:00:01\n",
      "[ec2-user@ec2-52-90-26-203.compute-1.amazonaws.com] out: \u001b[K    6% |██                              | 194kB 11.9MB/s eta 0:00:01\n",
      "[ec2-user@ec2-52-90-26-203.compute-1.amazonaws.com] out: \u001b[K    6% |██                              | 204kB 12.6MB/s eta 0:00:01\n",
      "[ec2-user@ec2-52-90-26-203.compute-1.amazonaws.com] out: \u001b[K    6% |██▏                             | 215kB 10.9MB/s eta 0:00:01\n",
      "[ec2-user@ec2-52-90-26-203.compute-1.amazonaws.com] out: \u001b[K    7% |██▎                             | 225kB 12.5MB/s eta 0:00:01\n",
      "[ec2-user@ec2-52-90-26-203.compute-1.amazonaws.com] out: \u001b[K    7% |██▍                             | 235kB 12.8MB/s eta 0:00:01\n",
      "[ec2-user@ec2-52-90-26-203.compute-1.amazonaws.com] out: \u001b[K    7% |██▌                             | 245kB 11.3MB/s eta 0:00:01\n",
      "[ec2-user@ec2-52-90-26-203.compute-1.amazonaws.com] out: \u001b[K    8% |██▋                             | 256kB 13.0MB/s eta 0:00:01\n",
      "[ec2-user@ec2-52-90-26-203.compute-1.amazonaws.com] out: \u001b[K    8% |██▊                             | 266kB 15.0MB/s eta 0:00:01\n",
      "[ec2-user@ec2-52-90-26-203.compute-1.amazonaws.com] out: \u001b[K    8% |██▉                             | 276kB 15.0MB/s eta 0:00:01\n",
      "[ec2-user@ec2-52-90-26-203.compute-1.amazonaws.com] out: \u001b[K    9% |███                             | 286kB 14.6MB/s eta 0:00:01\n",
      "[ec2-user@ec2-52-90-26-203.compute-1.amazonaws.com] out: \u001b[K    9% |███                             | 296kB 12.9MB/s eta 0:00:01\n",
      "[ec2-user@ec2-52-90-26-203.compute-1.amazonaws.com] out: \u001b[K    9% |███▏                            | 307kB 15.2MB/s eta 0:00:01\n",
      "[ec2-user@ec2-52-90-26-203.compute-1.amazonaws.com] out: \u001b[K    10% |███▎                            | 317kB 17.1MB/s eta 0:00:01\n",
      "[ec2-user@ec2-52-90-26-203.compute-1.amazonaws.com] out: \u001b[K    10% |███▍                            | 327kB 15.4MB/s eta 0:00:01\n",
      "[ec2-user@ec2-52-90-26-203.compute-1.amazonaws.com] out: \u001b[K    10% |███▌                            | 337kB 16.4MB/s eta 0:00:01\n",
      "[ec2-user@ec2-52-90-26-203.compute-1.amazonaws.com] out: \u001b[K    11% |███▋                            | 348kB 18.4MB/s eta 0:00:01\n",
      "[ec2-user@ec2-52-90-26-203.compute-1.amazonaws.com] out: \u001b[K    11% |███▊                            | 358kB 18.5MB/s eta 0:00:01\n",
      "[ec2-user@ec2-52-90-26-203.compute-1.amazonaws.com] out: \u001b[K    11% |███▉                            | 368kB 17.9MB/s eta 0:00:01\n",
      "[ec2-user@ec2-52-90-26-203.compute-1.amazonaws.com] out: \u001b[K    12% |████                            | 378kB 17.7MB/s eta 0:00:01\n",
      "[ec2-user@ec2-52-90-26-203.compute-1.amazonaws.com] out: \u001b[K    12% |████                            | 389kB 19.5MB/s eta 0:00:01\n",
      "[ec2-user@ec2-52-90-26-203.compute-1.amazonaws.com] out: \u001b[K    12% |████                            | 399kB 22.6MB/s eta 0:00:01\n",
      "[ec2-user@ec2-52-90-26-203.compute-1.amazonaws.com] out: \u001b[K    13% |████▏                           | 409kB 20.6MB/s eta 0:00:01\n",
      "[ec2-user@ec2-52-90-26-203.compute-1.amazonaws.com] out: \u001b[K    13% |████▎                           | 419kB 22.8MB/s eta 0:00:01\n",
      "[ec2-user@ec2-52-90-26-203.compute-1.amazonaws.com] out: \u001b[K    13% |████▍                           | 430kB 23.7MB/s eta 0:00:01\n",
      "[ec2-user@ec2-52-90-26-203.compute-1.amazonaws.com] out: \u001b[K    14% |████▌                           | 440kB 23.8MB/s eta 0:00:01\n",
      "[ec2-user@ec2-52-90-26-203.compute-1.amazonaws.com] out: \u001b[K    14% |████▋                           | 450kB 23.4MB/s eta 0:00:01\n",
      "[ec2-user@ec2-52-90-26-203.compute-1.amazonaws.com] out: \u001b[K    14% |████▊                           | 460kB 21.2MB/s eta 0:00:01\n",
      "[ec2-user@ec2-52-90-26-203.compute-1.amazonaws.com] out: \u001b[K    15% |████▉                           | 471kB 24.1MB/s eta 0:00:01\n",
      "[ec2-user@ec2-52-90-26-203.compute-1.amazonaws.com] out: \u001b[K    15% |█████                           | 481kB 24.1MB/s eta 0:00:01\n",
      "[ec2-user@ec2-52-90-26-203.compute-1.amazonaws.com] out: \u001b[K    15% |█████                           | 491kB 21.9MB/s eta 0:00:01\n",
      "[ec2-user@ec2-52-90-26-203.compute-1.amazonaws.com] out: \u001b[K    16% |█████▏                          | 501kB 23.1MB/s eta 0:00:01\n",
      "[ec2-user@ec2-52-90-26-203.compute-1.amazonaws.com] out: \u001b[K    16% |█████▎                          | 512kB 21.1MB/s eta 0:00:01\n",
      "[ec2-user@ec2-52-90-26-203.compute-1.amazonaws.com] out: \u001b[K    16% |█████▍                          | 522kB 21.2MB/s eta 0:00:01\n",
      "[ec2-user@ec2-52-90-26-203.compute-1.amazonaws.com] out: \u001b[K    17% |█████▌                          | 532kB 23.5MB/s eta 0:00:01\n",
      "[ec2-user@ec2-52-90-26-203.compute-1.amazonaws.com] out: \u001b[K    17% |█████▋                          | 542kB 23.1MB/s eta 0:00:01\n",
      "[ec2-user@ec2-52-90-26-203.compute-1.amazonaws.com] out: \u001b[K    17% |█████▊                          | 552kB 26.3MB/s eta 0:00:01\n",
      "[ec2-user@ec2-52-90-26-203.compute-1.amazonaws.com] out: \u001b[K    18% |█████▉                          | 563kB 27.7MB/s eta 0:00:01\n",
      "[ec2-user@ec2-52-90-26-203.compute-1.amazonaws.com] out: \u001b[K    18% |█████▉                          | 573kB 22.9MB/s eta 0:00:01\n",
      "[ec2-user@ec2-52-90-26-203.compute-1.amazonaws.com] out: \u001b[K    18% |██████                          | 583kB 23.0MB/s eta 0:00:01\n",
      "[ec2-user@ec2-52-90-26-203.compute-1.amazonaws.com] out: \u001b[K    19% |██████                          | 593kB 25.3MB/s eta 0:00:01\n",
      "[ec2-user@ec2-52-90-26-203.compute-1.amazonaws.com] out: \u001b[K    19% |██████▏                         | 604kB 25.3MB/s eta 0:00:01\n",
      "[ec2-user@ec2-52-90-26-203.compute-1.amazonaws.com] out: \u001b[K    19% |██████▎                         | 614kB 31.7MB/s eta 0:00:01\n",
      "[ec2-user@ec2-52-90-26-203.compute-1.amazonaws.com] out: \u001b[K    20% |██████▍                         | 624kB 26.9MB/s eta 0:00:01\n",
      "[ec2-user@ec2-52-90-26-203.compute-1.amazonaws.com] out: \u001b[K    20% |██████▌                         | 634kB 27.2MB/s eta 0:00:01\n",
      "[ec2-user@ec2-52-90-26-203.compute-1.amazonaws.com] out: \u001b[K    20% |██████▋                         | 645kB 27.6MB/s eta 0:00:01\n",
      "[ec2-user@ec2-52-90-26-203.compute-1.amazonaws.com] out: \u001b[K    21% |██████▊                         | 655kB 26.4MB/s eta 0:00:01\n",
      "[ec2-user@ec2-52-90-26-203.compute-1.amazonaws.com] out: \u001b[K    21% |██████▉                         | 665kB 28.3MB/s eta 0:00:01\n",
      "[ec2-user@ec2-52-90-26-203.compute-1.amazonaws.com] out: \u001b[K    21% |███████                         | 675kB 31.2MB/s eta 0:00:01\n",
      "[ec2-user@ec2-52-90-26-203.compute-1.amazonaws.com] out: \u001b[K    22% |███████                         | 686kB 31.4MB/s eta 0:00:01\n",
      "[ec2-user@ec2-52-90-26-203.compute-1.amazonaws.com] out: \u001b[K    22% |███████▏                        | 696kB 31.3MB/s eta 0:00:01\n",
      "[ec2-user@ec2-52-90-26-203.compute-1.amazonaws.com] out: \u001b[K    22% |███████▎                        | 706kB 29.1MB/s eta 0:00:01\n",
      "[ec2-user@ec2-52-90-26-203.compute-1.amazonaws.com] out: \u001b[K    22% |███████▍                        | 716kB 29.6MB/s eta 0:00:01\n",
      "[ec2-user@ec2-52-90-26-203.compute-1.amazonaws.com] out: \u001b[K    23% |███████▌                        | 727kB 31.9MB/s eta 0:00:01\n",
      "[ec2-user@ec2-52-90-26-203.compute-1.amazonaws.com] out: \u001b[K    23% |███████▋                        | 737kB 31.6MB/s eta 0:00:01\n",
      "[ec2-user@ec2-52-90-26-203.compute-1.amazonaws.com] out: \u001b[K    23% |███████▊                        | 747kB 31.8MB/s eta 0:00:01\n",
      "[ec2-user@ec2-52-90-26-203.compute-1.amazonaws.com] out: \u001b[K    24% |███████▉                        | 757kB 32.9MB/s eta 0:00:01\n",
      "[ec2-user@ec2-52-90-26-203.compute-1.amazonaws.com] out: \u001b[K    24% |███████▉                        | 768kB 33.0MB/s eta 0:00:01\n",
      "[ec2-user@ec2-52-90-26-203.compute-1.amazonaws.com] out: \u001b[K    24% |████████                        | 778kB 38.0MB/s eta 0:00:01\n",
      "[ec2-user@ec2-52-90-26-203.compute-1.amazonaws.com] out: \u001b[K    25% |████████                        | 788kB 33.8MB/s eta 0:00:01\n",
      "[ec2-user@ec2-52-90-26-203.compute-1.amazonaws.com] out: \u001b[K    25% |████████▏                       | 798kB 34.2MB/s eta 0:00:01\n",
      "[ec2-user@ec2-52-90-26-203.compute-1.amazonaws.com] out: \u001b[K    25% |████████▎                       | 808kB 33.3MB/s eta 0:00:01\n",
      "[ec2-user@ec2-52-90-26-203.compute-1.amazonaws.com] out: \u001b[K    26% |████████▍                       | 819kB 33.0MB/s eta 0:00:01\n",
      "[ec2-user@ec2-52-90-26-203.compute-1.amazonaws.com] out: \u001b[K    26% |████████▌                       | 829kB 36.4MB/s eta 0:00:01\n",
      "[ec2-user@ec2-52-90-26-203.compute-1.amazonaws.com] out: \u001b[K    26% |████████▋                       | 839kB 36.2MB/s eta 0:00:01\n",
      "[ec2-user@ec2-52-90-26-203.compute-1.amazonaws.com] out: \u001b[K    27% |████████▊                       | 849kB 36.3MB/s eta 0:00:01\n",
      "[ec2-user@ec2-52-90-26-203.compute-1.amazonaws.com] out: \u001b[K    27% |████████▉                       | 860kB 36.3MB/s eta 0:00:01\n",
      "[ec2-user@ec2-52-90-26-203.compute-1.amazonaws.com] out: \u001b[K    27% |█████████                       | 870kB 33.0MB/s eta 0:00:01\n",
      "[ec2-user@ec2-52-90-26-203.compute-1.amazonaws.com] out: \u001b[K    28% |█████████                       | 880kB 33.8MB/s eta 0:00:01\n",
      "[ec2-user@ec2-52-90-26-203.compute-1.amazonaws.com] out: \u001b[K    28% |█████████▏                      | 890kB 33.0MB/s eta 0:00:01\n",
      "[ec2-user@ec2-52-90-26-203.compute-1.amazonaws.com] out: \u001b[K    28% |█████████▎                      | 901kB 32.7MB/s eta 0:00:01\n",
      "[ec2-user@ec2-52-90-26-203.compute-1.amazonaws.com] out: \u001b[K    29% |█████████▍                      | 911kB 36.3MB/s eta 0:00:01\n",
      "[ec2-user@ec2-52-90-26-203.compute-1.amazonaws.com] out: \u001b[K    29% |█████████▌                      | 921kB 35.9MB/s eta 0:00:01\n",
      "[ec2-user@ec2-52-90-26-203.compute-1.amazonaws.com] out: \u001b[K    29% |█████████▋                      | 931kB 36.4MB/s eta 0:00:01\n",
      "[ec2-user@ec2-52-90-26-203.compute-1.amazonaws.com] out: \u001b[K    30% |█████████▊                      | 942kB 36.1MB/s eta 0:00:01\n",
      "[ec2-user@ec2-52-90-26-203.compute-1.amazonaws.com] out: \u001b[K    30% |█████████▊                      | 952kB 35.7MB/s eta 0:00:01\n",
      "[ec2-user@ec2-52-90-26-203.compute-1.amazonaws.com] out: \u001b[K    30% |█████████▉                      | 962kB 36.1MB/s eta 0:00:01\n",
      "[ec2-user@ec2-52-90-26-203.compute-1.amazonaws.com] out: \u001b[K    31% |██████████                      | 972kB 39.4MB/s eta 0:00:01\n",
      "[ec2-user@ec2-52-90-26-203.compute-1.amazonaws.com] out: \u001b[K    31% |██████████                      | 983kB 38.2MB/s eta 0:00:01\n",
      "[ec2-user@ec2-52-90-26-203.compute-1.amazonaws.com] out: \u001b[K    31% |██████████▏                     | 993kB 45.0MB/s eta 0:00:01\n",
      "[ec2-user@ec2-52-90-26-203.compute-1.amazonaws.com] out: \u001b[K    32% |██████████▎                     | 1.0MB 44.2MB/s eta 0:00:01\n",
      "[ec2-user@ec2-52-90-26-203.compute-1.amazonaws.com] out: \u001b[K    32% |██████████▍                     | 1.0MB 44.5MB/s eta 0:00:01\n",
      "[ec2-user@ec2-52-90-26-203.compute-1.amazonaws.com] out: \u001b[K    32% |██████████▌                     | 1.0MB 45.1MB/s eta 0:00:01\n",
      "[ec2-user@ec2-52-90-26-203.compute-1.amazonaws.com] out: \u001b[K    33% |██████████▋                     | 1.0MB 43.1MB/s eta 0:00:01\n",
      "[ec2-user@ec2-52-90-26-203.compute-1.amazonaws.com] out: \u001b[K    33% |██████████▊                     | 1.0MB 44.4MB/s eta 0:00:01\n",
      "[ec2-user@ec2-52-90-26-203.compute-1.amazonaws.com] out: \u001b[K    33% |██████████▉                     | 1.1MB 44.0MB/s eta 0:00:01\n",
      "[ec2-user@ec2-52-90-26-203.compute-1.amazonaws.com] out: \u001b[K    34% |███████████                     | 1.1MB 41.8MB/s eta 0:00:01\n",
      "[ec2-user@ec2-52-90-26-203.compute-1.amazonaws.com] out: \u001b[K    34% |███████████                     | 1.1MB 42.5MB/s eta 0:00:01\n",
      "[ec2-user@ec2-52-90-26-203.compute-1.amazonaws.com] out: \u001b[K    34% |███████████▏                    | 1.1MB 43.6MB/s eta 0:00:01\n",
      "[ec2-user@ec2-52-90-26-203.compute-1.amazonaws.com] out: \u001b[K    35% |███████████▎                    | 1.1MB 43.2MB/s eta 0:00:01\n",
      "[ec2-user@ec2-52-90-26-203.compute-1.amazonaws.com] out: \u001b[K    35% |███████████▍                    | 1.1MB 43.8MB/s eta 0:00:01\n",
      "[ec2-user@ec2-52-90-26-203.compute-1.amazonaws.com] out: \u001b[K    35% |███████████▌                    | 1.1MB 42.2MB/s eta 0:00:01\n",
      "[ec2-user@ec2-52-90-26-203.compute-1.amazonaws.com] out: \u001b[K    36% |███████████▋                    | 1.1MB 42.8MB/s eta 0:00:01\n",
      "[ec2-user@ec2-52-90-26-203.compute-1.amazonaws.com] out: \u001b[K    36% |███████████▊                    | 1.1MB 43.4MB/s eta 0:00:01\n",
      "[ec2-user@ec2-52-90-26-203.compute-1.amazonaws.com] out: \u001b[K    36% |███████████▊                    | 1.1MB 42.9MB/s eta 0:00:01\n",
      "[ec2-user@ec2-52-90-26-203.compute-1.amazonaws.com] out: \u001b[K    37% |███████████▉                    | 1.2MB 43.0MB/s eta 0:00:01\n",
      "[ec2-user@ec2-52-90-26-203.compute-1.amazonaws.com] out: \u001b[K    37% |████████████                    | 1.2MB 45.2MB/s eta 0:00:01\n",
      "[ec2-user@ec2-52-90-26-203.compute-1.amazonaws.com] out: \u001b[K    37% |████████████                    | 1.2MB 45.3MB/s eta 0:00:01\n",
      "[ec2-user@ec2-52-90-26-203.compute-1.amazonaws.com] out: \u001b[K    38% |████████████▏                   | 1.2MB 45.2MB/s eta 0:00:01\n",
      "[ec2-user@ec2-52-90-26-203.compute-1.amazonaws.com] out: \u001b[K    38% |████████████▎                   | 1.2MB 43.9MB/s eta 0:00:01\n",
      "[ec2-user@ec2-52-90-26-203.compute-1.amazonaws.com] out: \u001b[K    38% |████████████▍                   | 1.2MB 44.6MB/s eta 0:00:01\n",
      "[ec2-user@ec2-52-90-26-203.compute-1.amazonaws.com] out: \u001b[K    39% |████████████▌                   | 1.2MB 45.7MB/s eta 0:00:01\n",
      "[ec2-user@ec2-52-90-26-203.compute-1.amazonaws.com] out: \u001b[K    39% |████████████▋                   | 1.2MB 44.2MB/s eta 0:00:01\n",
      "[ec2-user@ec2-52-90-26-203.compute-1.amazonaws.com] out: \u001b[K    39% |████████████▊                   | 1.2MB 44.8MB/s eta 0:00:01\n",
      "[ec2-user@ec2-52-90-26-203.compute-1.amazonaws.com] out: \u001b[K    40% |████████████▉                   | 1.2MB 44.3MB/s eta 0:00:01\n",
      "[ec2-user@ec2-52-90-26-203.compute-1.amazonaws.com] out: \u001b[K    40% |█████████████                   | 1.3MB 44.6MB/s eta 0:00:01\n",
      "[ec2-user@ec2-52-90-26-203.compute-1.amazonaws.com] out: \u001b[K    40% |█████████████                   | 1.3MB 44.4MB/s eta 0:00:01\n",
      "[ec2-user@ec2-52-90-26-203.compute-1.amazonaws.com] out: \u001b[K    41% |█████████████▏                  | 1.3MB 43.3MB/s eta 0:00:01\n",
      "[ec2-user@ec2-52-90-26-203.compute-1.amazonaws.com] out: \u001b[K    41% |█████████████▎                  | 1.3MB 43.5MB/s eta 0:00:01\n",
      "[ec2-user@ec2-52-90-26-203.compute-1.amazonaws.com] out: \u001b[K    41% |█████████████▍                  | 1.3MB 44.9MB/s eta 0:00:01\n",
      "[ec2-user@ec2-52-90-26-203.compute-1.amazonaws.com] out: \u001b[K    42% |█████████████▌                  | 1.3MB 44.5MB/s eta 0:00:01\n",
      "[ec2-user@ec2-52-90-26-203.compute-1.amazonaws.com] out: \u001b[K    42% |█████████████▋                  | 1.3MB 44.6MB/s eta 0:00:01\n",
      "[ec2-user@ec2-52-90-26-203.compute-1.amazonaws.com] out: \u001b[K    42% |█████████████▊                  | 1.3MB 45.1MB/s eta 0:00:01\n",
      "[ec2-user@ec2-52-90-26-203.compute-1.amazonaws.com] out: \u001b[K    43% |█████████████▊                  | 1.3MB 45.8MB/s eta 0:00:01\n",
      "[ec2-user@ec2-52-90-26-203.compute-1.amazonaws.com] out: \u001b[K    43% |█████████████▉                  | 1.4MB 45.8MB/s eta 0:00:01\n",
      "[ec2-user@ec2-52-90-26-203.compute-1.amazonaws.com] out: \u001b[K    43% |██████████████                  | 1.4MB 45.4MB/s eta 0:00:01\n",
      "[ec2-user@ec2-52-90-26-203.compute-1.amazonaws.com] out: \u001b[K    44% |██████████████                  | 1.4MB 46.2MB/s eta 0:00:01\n",
      "[ec2-user@ec2-52-90-26-203.compute-1.amazonaws.com] out: \u001b[K    44% |██████████████▏                 | 1.4MB 46.2MB/s eta 0:00:01\n",
      "[ec2-user@ec2-52-90-26-203.compute-1.amazonaws.com] out: \u001b[K    44% |██████████████▎                 | 1.4MB 44.8MB/s eta 0:00:01\n",
      "[ec2-user@ec2-52-90-26-203.compute-1.amazonaws.com] out: \u001b[K    45% |██████████████▍                 | 1.4MB 45.1MB/s eta 0:00:01\n",
      "[ec2-user@ec2-52-90-26-203.compute-1.amazonaws.com] out: \u001b[K    45% |██████████████▌                 | 1.4MB 45.1MB/s eta 0:00:01\n",
      "[ec2-user@ec2-52-90-26-203.compute-1.amazonaws.com] out: \u001b[K    45% |██████████████▋                 | 1.4MB 45.8MB/s eta 0:00:01\n",
      "[ec2-user@ec2-52-90-26-203.compute-1.amazonaws.com] out: \u001b[K    45% |██████████████▊                 | 1.4MB 46.5MB/s eta 0:00:01\n",
      "[ec2-user@ec2-52-90-26-203.compute-1.amazonaws.com] out: \u001b[K    46% |██████████████▉                 | 1.4MB 46.0MB/s eta 0:00:01\n",
      "[ec2-user@ec2-52-90-26-203.compute-1.amazonaws.com] out: \u001b[K    46% |███████████████                 | 1.5MB 47.3MB/s eta 0:00:01\n",
      "[ec2-user@ec2-52-90-26-203.compute-1.amazonaws.com] out: \u001b[K    46% |███████████████                 | 1.5MB 46.7MB/s eta 0:00:01\n",
      "[ec2-user@ec2-52-90-26-203.compute-1.amazonaws.com] out: \u001b[K    47% |███████████████▏                | 1.5MB 46.2MB/s eta 0:00:01\n",
      "[ec2-user@ec2-52-90-26-203.compute-1.amazonaws.com] out: \u001b[K    47% |███████████████▎                | 1.5MB 46.6MB/s eta 0:00:01\n",
      "[ec2-user@ec2-52-90-26-203.compute-1.amazonaws.com] out: \u001b[K    47% |███████████████▍                | 1.5MB 47.7MB/s eta 0:00:01\n",
      "[ec2-user@ec2-52-90-26-203.compute-1.amazonaws.com] out: \u001b[K    48% |███████████████▌                | 1.5MB 47.3MB/s eta 0:00:01\n",
      "[ec2-user@ec2-52-90-26-203.compute-1.amazonaws.com] out: \u001b[K    48% |███████████████▋                | 1.5MB 46.7MB/s eta 0:00:01\n",
      "[ec2-user@ec2-52-90-26-203.compute-1.amazonaws.com] out: \u001b[K    48% |███████████████▋                | 1.5MB 45.2MB/s eta 0:00:01\n",
      "[ec2-user@ec2-52-90-26-203.compute-1.amazonaws.com] out: \u001b[K    49% |███████████████▊                | 1.5MB 45.5MB/s eta 0:00:01\n",
      "[ec2-user@ec2-52-90-26-203.compute-1.amazonaws.com] out: \u001b[K    49% |███████████████▉                | 1.5MB 45.2MB/s eta 0:00:01\n",
      "[ec2-user@ec2-52-90-26-203.compute-1.amazonaws.com] out: \u001b[K    49% |████████████████                | 1.6MB 44.2MB/s eta 0:00:01\n",
      "[ec2-user@ec2-52-90-26-203.compute-1.amazonaws.com] out: \u001b[K    50% |████████████████                | 1.6MB 45.6MB/s eta 0:00:01\n",
      "[ec2-user@ec2-52-90-26-203.compute-1.amazonaws.com] out: \u001b[K    50% |████████████████▏               | 1.6MB 45.7MB/s eta 0:00:01\n",
      "[ec2-user@ec2-52-90-26-203.compute-1.amazonaws.com] out: \u001b[K    50% |████████████████▎               | 1.6MB 46.0MB/s eta 0:00:01\n",
      "[ec2-user@ec2-52-90-26-203.compute-1.amazonaws.com] out: \u001b[K    51% |████████████████▍               | 1.6MB 45.5MB/s eta 0:00:01\n",
      "[ec2-user@ec2-52-90-26-203.compute-1.amazonaws.com] out: \u001b[K    51% |████████████████▌               | 1.6MB 45.3MB/s eta 0:00:01\n",
      "[ec2-user@ec2-52-90-26-203.compute-1.amazonaws.com] out: \u001b[K    51% |████████████████▋               | 1.6MB 45.4MB/s eta 0:00:01\n",
      "[ec2-user@ec2-52-90-26-203.compute-1.amazonaws.com] out: \u001b[K    52% |████████████████▊               | 1.6MB 46.5MB/s eta 0:00:01\n",
      "[ec2-user@ec2-52-90-26-203.compute-1.amazonaws.com] out: \u001b[K    52% |████████████████▉               | 1.6MB 45.2MB/s eta 0:00:01\n",
      "[ec2-user@ec2-52-90-26-203.compute-1.amazonaws.com] out: \u001b[K    52% |█████████████████               | 1.6MB 45.6MB/s eta 0:00:01\n",
      "[ec2-user@ec2-52-90-26-203.compute-1.amazonaws.com] out: \u001b[K    53% |█████████████████               | 1.7MB 46.5MB/s eta 0:00:01\n",
      "[ec2-user@ec2-52-90-26-203.compute-1.amazonaws.com] out: \u001b[K    53% |█████████████████▏              | 1.7MB 45.3MB/s eta 0:00:01\n",
      "[ec2-user@ec2-52-90-26-203.compute-1.amazonaws.com] out: \u001b[K    53% |█████████████████▎              | 1.7MB 44.7MB/s eta 0:00:01\n",
      "[ec2-user@ec2-52-90-26-203.compute-1.amazonaws.com] out: \u001b[K    54% |█████████████████▍              | 1.7MB 45.2MB/s eta 0:00:01\n",
      "[ec2-user@ec2-52-90-26-203.compute-1.amazonaws.com] out: \u001b[K    54% |█████████████████▌              | 1.7MB 45.2MB/s eta 0:00:01\n",
      "[ec2-user@ec2-52-90-26-203.compute-1.amazonaws.com] out: \u001b[K    54% |█████████████████▋              | 1.7MB 44.3MB/s eta 0:00:01\n",
      "[ec2-user@ec2-52-90-26-203.compute-1.amazonaws.com] out: \u001b[K    55% |█████████████████▋              | 1.7MB 45.1MB/s eta 0:00:01\n",
      "[ec2-user@ec2-52-90-26-203.compute-1.amazonaws.com] out: \u001b[K    55% |█████████████████▊              | 1.7MB 44.7MB/s eta 0:00:01\n",
      "[ec2-user@ec2-52-90-26-203.compute-1.amazonaws.com] out: \u001b[K    55% |█████████████████▉              | 1.7MB 45.3MB/s eta 0:00:01\n",
      "[ec2-user@ec2-52-90-26-203.compute-1.amazonaws.com] out: \u001b[K    56% |██████████████████              | 1.8MB 45.3MB/s eta 0:00:01\n",
      "[ec2-user@ec2-52-90-26-203.compute-1.amazonaws.com] out: \u001b[K    56% |██████████████████              | 1.8MB 44.7MB/s eta 0:00:01\n",
      "[ec2-user@ec2-52-90-26-203.compute-1.amazonaws.com] out: \u001b[K    56% |██████████████████▏             | 1.8MB 45.5MB/s eta 0:00:01\n",
      "[ec2-user@ec2-52-90-26-203.compute-1.amazonaws.com] out: \u001b[K    57% |██████████████████▎             | 1.8MB 45.5MB/s eta 0:00:01\n",
      "[ec2-user@ec2-52-90-26-203.compute-1.amazonaws.com] out: \u001b[K    57% |██████████████████▍             | 1.8MB 44.2MB/s eta 0:00:01\n",
      "[ec2-user@ec2-52-90-26-203.compute-1.amazonaws.com] out: \u001b[K    57% |██████████████████▌             | 1.8MB 44.7MB/s eta 0:00:01\n",
      "[ec2-user@ec2-52-90-26-203.compute-1.amazonaws.com] out: \u001b[K    58% |██████████████████▋             | 1.8MB 45.7MB/s eta 0:00:01\n",
      "[ec2-user@ec2-52-90-26-203.compute-1.amazonaws.com] out: \u001b[K    58% |██████████████████▊             | 1.8MB 45.2MB/s eta 0:00:01\n",
      "[ec2-user@ec2-52-90-26-203.compute-1.amazonaws.com] out: \u001b[K    58% |██████████████████▉             | 1.8MB 44.7MB/s eta 0:00:01\n",
      "[ec2-user@ec2-52-90-26-203.compute-1.amazonaws.com] out: \u001b[K    59% |███████████████████             | 1.8MB 44.8MB/s eta 0:00:01\n",
      "[ec2-user@ec2-52-90-26-203.compute-1.amazonaws.com] out: \u001b[K    59% |███████████████████             | 1.9MB 45.0MB/s eta 0:00:01\n",
      "[ec2-user@ec2-52-90-26-203.compute-1.amazonaws.com] out: \u001b[K    59% |███████████████████▏            | 1.9MB 44.8MB/s eta 0:00:01\n",
      "[ec2-user@ec2-52-90-26-203.compute-1.amazonaws.com] out: \u001b[K    60% |███████████████████▎            | 1.9MB 43.7MB/s eta 0:00:01\n",
      "[ec2-user@ec2-52-90-26-203.compute-1.amazonaws.com] out: \u001b[K    60% |███████████████████▍            | 1.9MB 44.0MB/s eta 0:00:01\n",
      "[ec2-user@ec2-52-90-26-203.compute-1.amazonaws.com] out: \u001b[K    60% |███████████████████▌            | 1.9MB 44.7MB/s eta 0:00:01\n",
      "[ec2-user@ec2-52-90-26-203.compute-1.amazonaws.com] out: \u001b[K    61% |███████████████████▌            | 1.9MB 45.2MB/s eta 0:00:01\n",
      "[ec2-user@ec2-52-90-26-203.compute-1.amazonaws.com] out: \u001b[K    61% |███████████████████▋            | 1.9MB 44.2MB/s eta 0:00:01\n",
      "[ec2-user@ec2-52-90-26-203.compute-1.amazonaws.com] out: \u001b[K    61% |███████████████████▊            | 1.9MB 43.5MB/s eta 0:00:01\n",
      "[ec2-user@ec2-52-90-26-203.compute-1.amazonaws.com] out: \u001b[K    62% |███████████████████▉            | 1.9MB 44.7MB/s eta 0:00:01\n",
      "[ec2-user@ec2-52-90-26-203.compute-1.amazonaws.com] out: \u001b[K    62% |████████████████████            | 1.9MB 43.9MB/s eta 0:00:01\n",
      "[ec2-user@ec2-52-90-26-203.compute-1.amazonaws.com] out: \u001b[K    62% |████████████████████            | 2.0MB 43.8MB/s eta 0:00:01\n",
      "[ec2-user@ec2-52-90-26-203.compute-1.amazonaws.com] out: \u001b[K    63% |████████████████████▏           | 2.0MB 44.1MB/s eta 0:00:01\n",
      "[ec2-user@ec2-52-90-26-203.compute-1.amazonaws.com] out: \u001b[K    63% |████████████████████▎           | 2.0MB 44.7MB/s eta 0:00:01\n",
      "[ec2-user@ec2-52-90-26-203.compute-1.amazonaws.com] out: \u001b[K    63% |████████████████████▍           | 2.0MB 45.3MB/s eta 0:00:01\n",
      "[ec2-user@ec2-52-90-26-203.compute-1.amazonaws.com] out: \u001b[K    64% |████████████████████▌           | 2.0MB 44.3MB/s eta 0:00:01\n",
      "[ec2-user@ec2-52-90-26-203.compute-1.amazonaws.com] out: \u001b[K    64% |████████████████████▋           | 2.0MB 42.9MB/s eta 0:00:01\n",
      "[ec2-user@ec2-52-90-26-203.compute-1.amazonaws.com] out: \u001b[K    64% |████████████████████▊           | 2.0MB 44.4MB/s eta 0:00:01\n",
      "[ec2-user@ec2-52-90-26-203.compute-1.amazonaws.com] out: \u001b[K    65% |████████████████████▉           | 2.0MB 44.2MB/s eta 0:00:01\n",
      "[ec2-user@ec2-52-90-26-203.compute-1.amazonaws.com] out: \u001b[K    65% |█████████████████████           | 2.0MB 43.6MB/s eta 0:00:01\n",
      "[ec2-user@ec2-52-90-26-203.compute-1.amazonaws.com] out: \u001b[K    65% |█████████████████████           | 2.0MB 44.9MB/s eta 0:00:01\n",
      "[ec2-user@ec2-52-90-26-203.compute-1.amazonaws.com] out: \u001b[K    66% |█████████████████████▏          | 2.1MB 44.6MB/s eta 0:00:01\n",
      "[ec2-user@ec2-52-90-26-203.compute-1.amazonaws.com] out: \u001b[K    66% |█████████████████████▎          | 2.1MB 45.0MB/s eta 0:00:01\n",
      "[ec2-user@ec2-52-90-26-203.compute-1.amazonaws.com] out: \u001b[K    66% |█████████████████████▍          | 2.1MB 44.0MB/s eta 0:00:01\n",
      "[ec2-user@ec2-52-90-26-203.compute-1.amazonaws.com] out: \u001b[K    67% |█████████████████████▌          | 2.1MB 43.5MB/s eta 0:00:01\n",
      "[ec2-user@ec2-52-90-26-203.compute-1.amazonaws.com] out: \u001b[K    67% |█████████████████████▌          | 2.1MB 44.3MB/s eta 0:00:01\n",
      "[ec2-user@ec2-52-90-26-203.compute-1.amazonaws.com] out: \u001b[K    67% |█████████████████████▋          | 2.1MB 44.9MB/s eta 0:00:01\n",
      "[ec2-user@ec2-52-90-26-203.compute-1.amazonaws.com] out: \u001b[K    68% |█████████████████████▊          | 2.1MB 44.0MB/s eta 0:00:01\n",
      "[ec2-user@ec2-52-90-26-203.compute-1.amazonaws.com] out: \u001b[K    68% |█████████████████████▉          | 2.1MB 45.4MB/s eta 0:00:01\n",
      "[ec2-user@ec2-52-90-26-203.compute-1.amazonaws.com] out: \u001b[K    68% |██████████████████████          | 2.1MB 45.0MB/s eta 0:00:01\n",
      "[ec2-user@ec2-52-90-26-203.compute-1.amazonaws.com] out: \u001b[K    68% |██████████████████████          | 2.2MB 45.0MB/s eta 0:00:01\n",
      "[ec2-user@ec2-52-90-26-203.compute-1.amazonaws.com] out: \u001b[K    69% |██████████████████████▏         | 2.2MB 44.3MB/s eta 0:00:01\n",
      "[ec2-user@ec2-52-90-26-203.compute-1.amazonaws.com] out: \u001b[K    69% |██████████████████████▎         | 2.2MB 43.1MB/s eta 0:00:01\n",
      "[ec2-user@ec2-52-90-26-203.compute-1.amazonaws.com] out: \u001b[K    69% |██████████████████████▍         | 2.2MB 45.1MB/s eta 0:00:01\n",
      "[ec2-user@ec2-52-90-26-203.compute-1.amazonaws.com] out: \u001b[K    70% |██████████████████████▌         | 2.2MB 44.5MB/s eta 0:00:01\n",
      "[ec2-user@ec2-52-90-26-203.compute-1.amazonaws.com] out: \u001b[K    70% |██████████████████████▋         | 2.2MB 44.4MB/s eta 0:00:01\n",
      "[ec2-user@ec2-52-90-26-203.compute-1.amazonaws.com] out: \u001b[K    70% |██████████████████████▊         | 2.2MB 45.0MB/s eta 0:00:01\n",
      "[ec2-user@ec2-52-90-26-203.compute-1.amazonaws.com] out: \u001b[K    71% |██████████████████████▉         | 2.2MB 45.0MB/s eta 0:00:01\n",
      "[ec2-user@ec2-52-90-26-203.compute-1.amazonaws.com] out: \u001b[K    71% |███████████████████████         | 2.2MB 44.7MB/s eta 0:00:01\n",
      "[ec2-user@ec2-52-90-26-203.compute-1.amazonaws.com] out: \u001b[K    71% |███████████████████████         | 2.2MB 45.1MB/s eta 0:00:01\n",
      "[ec2-user@ec2-52-90-26-203.compute-1.amazonaws.com] out: \u001b[K    72% |███████████████████████▏        | 2.3MB 44.1MB/s eta 0:00:01\n",
      "[ec2-user@ec2-52-90-26-203.compute-1.amazonaws.com] out: \u001b[K    72% |███████████████████████▎        | 2.3MB 45.0MB/s eta 0:00:01\n",
      "[ec2-user@ec2-52-90-26-203.compute-1.amazonaws.com] out: \u001b[K    72% |███████████████████████▍        | 2.3MB 45.4MB/s eta 0:00:01\n",
      "[ec2-user@ec2-52-90-26-203.compute-1.amazonaws.com] out: \u001b[K    73% |███████████████████████▌        | 2.3MB 44.7MB/s eta 0:00:01\n",
      "[ec2-user@ec2-52-90-26-203.compute-1.amazonaws.com] out: \u001b[K    73% |███████████████████████▌        | 2.3MB 45.1MB/s eta 0:00:01\n",
      "[ec2-user@ec2-52-90-26-203.compute-1.amazonaws.com] out: \u001b[K    73% |███████████████████████▋        | 2.3MB 45.0MB/s eta 0:00:01\n",
      "[ec2-user@ec2-52-90-26-203.compute-1.amazonaws.com] out: \u001b[K    74% |███████████████████████▊        | 2.3MB 45.3MB/s eta 0:00:01\n",
      "[ec2-user@ec2-52-90-26-203.compute-1.amazonaws.com] out: \u001b[K    74% |███████████████████████▉        | 2.3MB 45.2MB/s eta 0:00:01\n",
      "[ec2-user@ec2-52-90-26-203.compute-1.amazonaws.com] out: \u001b[K    74% |████████████████████████        | 2.3MB 44.4MB/s eta 0:00:01\n",
      "[ec2-user@ec2-52-90-26-203.compute-1.amazonaws.com] out: \u001b[K    75% |████████████████████████        | 2.3MB 44.8MB/s eta 0:00:01\n",
      "[ec2-user@ec2-52-90-26-203.compute-1.amazonaws.com] out: \u001b[K    75% |████████████████████████▏       | 2.4MB 44.8MB/s eta 0:00:01\n",
      "[ec2-user@ec2-52-90-26-203.compute-1.amazonaws.com] out: \u001b[K    75% |████████████████████████▎       | 2.4MB 44.5MB/s eta 0:00:01\n",
      "[ec2-user@ec2-52-90-26-203.compute-1.amazonaws.com] out: \u001b[K    76% |████████████████████████▍       | 2.4MB 45.3MB/s eta 0:00:01\n",
      "[ec2-user@ec2-52-90-26-203.compute-1.amazonaws.com] out: \u001b[K    76% |████████████████████████▌       | 2.4MB 45.6MB/s eta 0:00:01\n",
      "[ec2-user@ec2-52-90-26-203.compute-1.amazonaws.com] out: \u001b[K    76% |████████████████████████▋       | 2.4MB 46.4MB/s eta 0:00:01\n",
      "[ec2-user@ec2-52-90-26-203.compute-1.amazonaws.com] out: \u001b[K    77% |████████████████████████▊       | 2.4MB 46.0MB/s eta 0:00:01\n",
      "[ec2-user@ec2-52-90-26-203.compute-1.amazonaws.com] out: \u001b[K    77% |████████████████████████▉       | 2.4MB 45.1MB/s eta 0:00:01\n",
      "[ec2-user@ec2-52-90-26-203.compute-1.amazonaws.com] out: \u001b[K    77% |█████████████████████████       | 2.4MB 46.0MB/s eta 0:00:01\n",
      "[ec2-user@ec2-52-90-26-203.compute-1.amazonaws.com] out: \u001b[K    78% |█████████████████████████       | 2.4MB 46.5MB/s eta 0:00:01\n",
      "[ec2-user@ec2-52-90-26-203.compute-1.amazonaws.com] out: \u001b[K    78% |█████████████████████████▏      | 2.4MB 45.2MB/s eta 0:00:01\n",
      "[ec2-user@ec2-52-90-26-203.compute-1.amazonaws.com] out: \u001b[K    78% |█████████████████████████▎      | 2.5MB 46.2MB/s eta 0:00:01\n",
      "[ec2-user@ec2-52-90-26-203.compute-1.amazonaws.com] out: \u001b[K    79% |█████████████████████████▍      | 2.5MB 46.7MB/s eta 0:00:01\n",
      "[ec2-user@ec2-52-90-26-203.compute-1.amazonaws.com] out: \u001b[K    79% |█████████████████████████▍      | 2.5MB 46.6MB/s eta 0:00:01\n",
      "[ec2-user@ec2-52-90-26-203.compute-1.amazonaws.com] out: \u001b[K    79% |█████████████████████████▌      | 2.5MB 46.7MB/s eta 0:00:01\n",
      "[ec2-user@ec2-52-90-26-203.compute-1.amazonaws.com] out: \u001b[K    80% |█████████████████████████▋      | 2.5MB 45.8MB/s eta 0:00:01\n",
      "[ec2-user@ec2-52-90-26-203.compute-1.amazonaws.com] out: \u001b[K    80% |█████████████████████████▊      | 2.5MB 46.5MB/s eta 0:00:01\n",
      "[ec2-user@ec2-52-90-26-203.compute-1.amazonaws.com] out: \u001b[K    80% |█████████████████████████▉      | 2.5MB 46.8MB/s eta 0:00:01\n",
      "[ec2-user@ec2-52-90-26-203.compute-1.amazonaws.com] out: \u001b[K    81% |██████████████████████████      | 2.5MB 45.3MB/s eta 0:00:01\n",
      "[ec2-user@ec2-52-90-26-203.compute-1.amazonaws.com] out: \u001b[K    81% |██████████████████████████      | 2.5MB 45.9MB/s eta 0:00:01\n",
      "[ec2-user@ec2-52-90-26-203.compute-1.amazonaws.com] out: \u001b[K    81% |██████████████████████████▏     | 2.5MB 47.0MB/s eta 0:00:01\n",
      "[ec2-user@ec2-52-90-26-203.compute-1.amazonaws.com] out: \u001b[K    82% |██████████████████████████▎     | 2.6MB 46.6MB/s eta 0:00:01\n",
      "[ec2-user@ec2-52-90-26-203.compute-1.amazonaws.com] out: \u001b[K    82% |██████████████████████████▍     | 2.6MB 45.3MB/s eta 0:00:01\n",
      "[ec2-user@ec2-52-90-26-203.compute-1.amazonaws.com] out: \u001b[K    82% |██████████████████████████▌     | 2.6MB 44.8MB/s eta 0:00:01\n",
      "[ec2-user@ec2-52-90-26-203.compute-1.amazonaws.com] out: \u001b[K    83% |██████████████████████████▋     | 2.6MB 44.6MB/s eta 0:00:01\n",
      "[ec2-user@ec2-52-90-26-203.compute-1.amazonaws.com] out: \u001b[K    83% |██████████████████████████▊     | 2.6MB 44.2MB/s eta 0:00:01\n",
      "[ec2-user@ec2-52-90-26-203.compute-1.amazonaws.com] out: \u001b[K    83% |██████████████████████████▉     | 2.6MB 44.3MB/s eta 0:00:01\n",
      "[ec2-user@ec2-52-90-26-203.compute-1.amazonaws.com] out: \u001b[K    84% |███████████████████████████     | 2.6MB 44.9MB/s eta 0:00:01\n",
      "[ec2-user@ec2-52-90-26-203.compute-1.amazonaws.com] out: \u001b[K    84% |███████████████████████████     | 2.6MB 45.6MB/s eta 0:00:01\n",
      "[ec2-user@ec2-52-90-26-203.compute-1.amazonaws.com] out: \u001b[K    84% |███████████████████████████▏    | 2.6MB 45.3MB/s eta 0:00:01\n",
      "[ec2-user@ec2-52-90-26-203.compute-1.amazonaws.com] out: \u001b[K    85% |███████████████████████████▎    | 2.7MB 45.4MB/s eta 0:00:01\n",
      "[ec2-user@ec2-52-90-26-203.compute-1.amazonaws.com] out: \u001b[K    85% |███████████████████████████▍    | 2.7MB 44.2MB/s eta 0:00:01\n",
      "[ec2-user@ec2-52-90-26-203.compute-1.amazonaws.com] out: \u001b[K    85% |███████████████████████████▍    | 2.7MB 45.8MB/s eta 0:00:01\n",
      "[ec2-user@ec2-52-90-26-203.compute-1.amazonaws.com] out: \u001b[K    86% |███████████████████████████▌    | 2.7MB 45.4MB/s eta 0:00:01\n",
      "[ec2-user@ec2-52-90-26-203.compute-1.amazonaws.com] out: \u001b[K    86% |███████████████████████████▋    | 2.7MB 44.6MB/s eta 0:00:01\n",
      "[ec2-user@ec2-52-90-26-203.compute-1.amazonaws.com] out: \u001b[K    86% |███████████████████████████▊    | 2.7MB 45.8MB/s eta 0:00:01\n",
      "[ec2-user@ec2-52-90-26-203.compute-1.amazonaws.com] out: \u001b[K    87% |███████████████████████████▉    | 2.7MB 45.1MB/s eta 0:00:01\n",
      "[ec2-user@ec2-52-90-26-203.compute-1.amazonaws.com] out: \u001b[K    87% |████████████████████████████    | 2.7MB 45.0MB/s eta 0:00:01\n",
      "[ec2-user@ec2-52-90-26-203.compute-1.amazonaws.com] out: \u001b[K    87% |████████████████████████████    | 2.7MB 45.3MB/s eta 0:00:01\n",
      "[ec2-user@ec2-52-90-26-203.compute-1.amazonaws.com] out: \u001b[K    88% |████████████████████████████▏   | 2.7MB 44.5MB/s eta 0:00:01\n",
      "[ec2-user@ec2-52-90-26-203.compute-1.amazonaws.com] out: \u001b[K    88% |████████████████████████████▎   | 2.8MB 44.6MB/s eta 0:00:01\n",
      "[ec2-user@ec2-52-90-26-203.compute-1.amazonaws.com] out: \u001b[K    88% |████████████████████████████▍   | 2.8MB 45.5MB/s eta 0:00:01\n",
      "[ec2-user@ec2-52-90-26-203.compute-1.amazonaws.com] out: \u001b[K    89% |████████████████████████████▌   | 2.8MB 44.7MB/s eta 0:00:01\n",
      "[ec2-user@ec2-52-90-26-203.compute-1.amazonaws.com] out: \u001b[K    89% |████████████████████████████▋   | 2.8MB 45.7MB/s eta 0:00:01\n",
      "[ec2-user@ec2-52-90-26-203.compute-1.amazonaws.com] out: \u001b[K    89% |████████████████████████████▊   | 2.8MB 46.6MB/s eta 0:00:01\n",
      "[ec2-user@ec2-52-90-26-203.compute-1.amazonaws.com] out: \u001b[K    90% |████████████████████████████▉   | 2.8MB 45.8MB/s eta 0:00:01\n",
      "[ec2-user@ec2-52-90-26-203.compute-1.amazonaws.com] out: \u001b[K    90% |█████████████████████████████   | 2.8MB 46.6MB/s eta 0:00:01\n",
      "[ec2-user@ec2-52-90-26-203.compute-1.amazonaws.com] out: \u001b[K    90% |█████████████████████████████   | 2.8MB 46.0MB/s eta 0:00:01\n",
      "[ec2-user@ec2-52-90-26-203.compute-1.amazonaws.com] out: \u001b[K    91% |█████████████████████████████▏  | 2.8MB 46.5MB/s eta 0:00:01\n",
      "[ec2-user@ec2-52-90-26-203.compute-1.amazonaws.com] out: \u001b[K    91% |█████████████████████████████▎  | 2.8MB 47.3MB/s eta 0:00:01\n",
      "[ec2-user@ec2-52-90-26-203.compute-1.amazonaws.com] out: \u001b[K    91% |█████████████████████████████▎  | 2.9MB 46.8MB/s eta 0:00:01\n",
      "[ec2-user@ec2-52-90-26-203.compute-1.amazonaws.com] out: \u001b[K    91% |█████████████████████████████▍  | 2.9MB 47.5MB/s eta 0:00:01\n",
      "[ec2-user@ec2-52-90-26-203.compute-1.amazonaws.com] out: \u001b[K    92% |█████████████████████████████▌  | 2.9MB 48.1MB/s eta 0:00:01\n",
      "[ec2-user@ec2-52-90-26-203.compute-1.amazonaws.com] out: \u001b[K    92% |█████████████████████████████▋  | 2.9MB 48.2MB/s eta 0:00:01\n",
      "[ec2-user@ec2-52-90-26-203.compute-1.amazonaws.com] out: \u001b[K    92% |█████████████████████████████▊  | 2.9MB 48.1MB/s eta 0:00:01\n",
      "[ec2-user@ec2-52-90-26-203.compute-1.amazonaws.com] out: \u001b[K    93% |█████████████████████████████▉  | 2.9MB 48.3MB/s eta 0:00:01\n",
      "[ec2-user@ec2-52-90-26-203.compute-1.amazonaws.com] out: \u001b[K    93% |██████████████████████████████  | 2.9MB 49.0MB/s eta 0:00:01\n",
      "[ec2-user@ec2-52-90-26-203.compute-1.amazonaws.com] out: \u001b[K    93% |██████████████████████████████  | 2.9MB 49.1MB/s eta 0:00:01\n",
      "[ec2-user@ec2-52-90-26-203.compute-1.amazonaws.com] out: \u001b[K    94% |██████████████████████████████▏ | 2.9MB 48.5MB/s eta 0:00:01\n",
      "[ec2-user@ec2-52-90-26-203.compute-1.amazonaws.com] out: \u001b[K    94% |██████████████████████████████▎ | 2.9MB 49.0MB/s eta 0:00:01\n",
      "[ec2-user@ec2-52-90-26-203.compute-1.amazonaws.com] out: \u001b[K    94% |██████████████████████████████▍ | 3.0MB 49.7MB/s eta 0:00:01\n",
      "[ec2-user@ec2-52-90-26-203.compute-1.amazonaws.com] out: \u001b[K    95% |██████████████████████████████▌ | 3.0MB 49.5MB/s eta 0:00:01\n",
      "[ec2-user@ec2-52-90-26-203.compute-1.amazonaws.com] out: \u001b[K    95% |██████████████████████████████▋ | 3.0MB 49.2MB/s eta 0:00:01\n",
      "[ec2-user@ec2-52-90-26-203.compute-1.amazonaws.com] out: \u001b[K    95% |██████████████████████████████▊ | 3.0MB 48.4MB/s eta 0:00:01\n",
      "[ec2-user@ec2-52-90-26-203.compute-1.amazonaws.com] out: \u001b[K    96% |██████████████████████████████▉ | 3.0MB 49.2MB/s eta 0:00:01\n",
      "[ec2-user@ec2-52-90-26-203.compute-1.amazonaws.com] out: \u001b[K    96% |███████████████████████████████ | 3.0MB 49.5MB/s eta 0:00:01\n",
      "[ec2-user@ec2-52-90-26-203.compute-1.amazonaws.com] out: \u001b[K    96% |███████████████████████████████ | 3.0MB 48.3MB/s eta 0:00:01\n",
      "[ec2-user@ec2-52-90-26-203.compute-1.amazonaws.com] out: \u001b[K    97% |███████████████████████████████▏| 3.0MB 48.8MB/s eta 0:00:01\n",
      "[ec2-user@ec2-52-90-26-203.compute-1.amazonaws.com] out: \u001b[K    97% |███████████████████████████████▎| 3.0MB 48.9MB/s eta 0:00:01\n",
      "[ec2-user@ec2-52-90-26-203.compute-1.amazonaws.com] out: \u001b[K    97% |███████████████████████████████▎| 3.1MB 48.9MB/s eta 0:00:01\n",
      "[ec2-user@ec2-52-90-26-203.compute-1.amazonaws.com] out: \u001b[K    98% |███████████████████████████████▍| 3.1MB 48.9MB/s eta 0:00:01\n",
      "[ec2-user@ec2-52-90-26-203.compute-1.amazonaws.com] out: \u001b[K    98% |███████████████████████████████▌| 3.1MB 48.4MB/s eta 0:00:01\n",
      "[ec2-user@ec2-52-90-26-203.compute-1.amazonaws.com] out: \u001b[K    98% |███████████████████████████████▋| 3.1MB 49.0MB/s eta 0:00:01\n",
      "[ec2-user@ec2-52-90-26-203.compute-1.amazonaws.com] out: \u001b[K    99% |███████████████████████████████▊| 3.1MB 49.4MB/s eta 0:00:01\n",
      "[ec2-user@ec2-52-90-26-203.compute-1.amazonaws.com] out: \u001b[K    99% |███████████████████████████████▉| 3.1MB 48.7MB/s eta 0:00:01\n",
      "[ec2-user@ec2-52-90-26-203.compute-1.amazonaws.com] out: \u001b[K    99% |████████████████████████████████| 3.1MB 49.2MB/s eta 0:00:01\n",
      "[ec2-user@ec2-52-90-26-203.compute-1.amazonaws.com] out: \u001b[K    100% |████████████████████████████████| 3.1MB 432kB/s \n",
      "[ec2-user@ec2-52-90-26-203.compute-1.amazonaws.com] out: \u001b[?25hRequirement already up-to-date: pyyaml in /usr/lib64/python3.4/dist-packages (from Keras==2.0.4)\n",
      "[ec2-user@ec2-52-90-26-203.compute-1.amazonaws.com] out: Requirement already up-to-date: six in /usr/lib/python3.4/dist-packages (from Keras==2.0.4)\n",
      "[ec2-user@ec2-52-90-26-203.compute-1.amazonaws.com] out: Requirement already up-to-date: numpy>=1.9.1 in /usr/lib64/python3.4/dist-packages (from theano->Keras==2.0.4)\n",
      "[ec2-user@ec2-52-90-26-203.compute-1.amazonaws.com] out: Requirement already up-to-date: scipy>=0.14 in /usr/lib64/python3.4/dist-packages (from theano->Keras==2.0.4)\n",
      "[ec2-user@ec2-52-90-26-203.compute-1.amazonaws.com] out: Building wheels for collected packages: theano\n",
      "[ec2-user@ec2-52-90-26-203.compute-1.amazonaws.com] out:   Running setup.py bdist_wheel for theano ... \u001b[?25l-\b \b\\\b \b|\b \b/\b \b-\b \bdone\n",
      "[ec2-user@ec2-52-90-26-203.compute-1.amazonaws.com] out: \u001b[?25h  Stored in directory: /root/.cache/pip/wheels/d5/5b/93/433299b86e3e9b25f0f600e4e4ebf18e38eb7534ea518eba13\n",
      "[ec2-user@ec2-52-90-26-203.compute-1.amazonaws.com] out: Successfully built theano\n",
      "[ec2-user@ec2-52-90-26-203.compute-1.amazonaws.com] out: Installing collected packages: theano, Keras\n",
      "[ec2-user@ec2-52-90-26-203.compute-1.amazonaws.com] out:   Found existing installation: Theano 0.8.2\n",
      "[ec2-user@ec2-52-90-26-203.compute-1.amazonaws.com] out:     Uninstalling Theano-0.8.2:\n",
      "[ec2-user@ec2-52-90-26-203.compute-1.amazonaws.com] out:       Successfully uninstalled Theano-0.8.2\n",
      "[ec2-user@ec2-52-90-26-203.compute-1.amazonaws.com] out:   Found existing installation: Keras 1.2.2\n",
      "[ec2-user@ec2-52-90-26-203.compute-1.amazonaws.com] out:     Uninstalling Keras-1.2.2:\n",
      "[ec2-user@ec2-52-90-26-203.compute-1.amazonaws.com] out:       Successfully uninstalled Keras-1.2.2\n",
      "[ec2-user@ec2-52-90-26-203.compute-1.amazonaws.com] out:   Running setup.py install for Keras ... \u001b[?25l-\b \b\\\b \b|\b \bdone\n",
      "[ec2-user@ec2-52-90-26-203.compute-1.amazonaws.com] out: \u001b[?25hSuccessfully installed Keras-2.0.4 theano-0.9.0\n",
      "[ec2-user@ec2-52-90-26-203.compute-1.amazonaws.com] out: \n",
      "\n",
      "[ec2-user@ec2-52-90-26-203.compute-1.amazonaws.com] run: sudo pip3 install pydot\n",
      "[ec2-user@ec2-52-90-26-203.compute-1.amazonaws.com] out: Collecting pydot\n",
      "[ec2-user@ec2-52-90-26-203.compute-1.amazonaws.com] out:   Downloading pydot-1.2.3.tar.gz\n",
      "[ec2-user@ec2-52-90-26-203.compute-1.amazonaws.com] out: Requirement already satisfied: pyparsing>=2.1.4 in /usr/lib/python3.4/dist-packages (from pydot)\n",
      "[ec2-user@ec2-52-90-26-203.compute-1.amazonaws.com] out: Building wheels for collected packages: pydot\n",
      "[ec2-user@ec2-52-90-26-203.compute-1.amazonaws.com] out:   Running setup.py bdist_wheel for pydot ... \u001b[?25l-\b \bdone\n",
      "[ec2-user@ec2-52-90-26-203.compute-1.amazonaws.com] out: \u001b[?25h  Stored in directory: /root/.cache/pip/wheels/47/8c/c2/4ac7bd0219b4ce5e08d03dc3467014c7a94b2efecfc29df2b2\n",
      "[ec2-user@ec2-52-90-26-203.compute-1.amazonaws.com] out: Successfully built pydot\n",
      "[ec2-user@ec2-52-90-26-203.compute-1.amazonaws.com] out: Installing collected packages: pydot\n",
      "[ec2-user@ec2-52-90-26-203.compute-1.amazonaws.com] out: Successfully installed pydot-1.2.3\n",
      "[ec2-user@ec2-52-90-26-203.compute-1.amazonaws.com] out: \n",
      "\n",
      "[ec2-user@ec2-52-90-26-203.compute-1.amazonaws.com] run: sudo pip3 install graphviz\n",
      "[ec2-user@ec2-52-90-26-203.compute-1.amazonaws.com] out: Requirement already satisfied: graphviz in /usr/lib/python3.4/dist-packages\n",
      "[ec2-user@ec2-52-90-26-203.compute-1.amazonaws.com] out: \n",
      "\n"
     ]
    }
   ],
   "source": [
    "benchmark_td1.configureInstances()"
   ]
  },
  {
   "cell_type": "code",
   "execution_count": 37,
   "metadata": {
    "collapsed": false
   },
   "outputs": [
    {
     "name": "stdout",
     "output_type": "stream",
     "text": [
      "[ec2-user@ec2-52-90-26-203.compute-1.amazonaws.com] run: nohup python3 -u test_mnist_kerasdef.py         --dataset mnist --architecture kerasdef --run_date 20170530         >20170530_mnist_kerasdef.log 2>20170530_mnist_kerasdef.err < /dev/null &\n",
      "[ec2-user@ec2-52-90-26-203.compute-1.amazonaws.com] run: pgrep -f \"python3 -u test\"\n",
      "[ec2-user@ec2-52-90-26-203.compute-1.amazonaws.com] out: 2877\n",
      "[ec2-user@ec2-52-90-26-203.compute-1.amazonaws.com] out: \n",
      "\n"
     ]
    }
   ],
   "source": [
    "benchmark_td1.runExperiments()"
   ]
  },
  {
   "cell_type": "code",
   "execution_count": 38,
   "metadata": {
    "collapsed": false,
    "scrolled": true
   },
   "outputs": [
    {
     "ename": "TypeError",
     "evalue": "rSync() takes 2 positional arguments but 3 were given",
     "output_type": "error",
     "traceback": [
      "\u001b[0;31m---------------------------------------------------------------------------\u001b[0m",
      "\u001b[0;31mTypeError\u001b[0m                                 Traceback (most recent call last)",
      "\u001b[0;32m<ipython-input-38-178040b647f9>\u001b[0m in \u001b[0;36m<module>\u001b[0;34m()\u001b[0m\n\u001b[0;32m----> 1\u001b[0;31m \u001b[0mbenchmark_td1\u001b[0m\u001b[0;34m.\u001b[0m\u001b[0mgetExperimentLogs\u001b[0m\u001b[0;34m(\u001b[0m\u001b[0;34m)\u001b[0m\u001b[0;34m\u001b[0m\u001b[0m\n\u001b[0m",
      "\u001b[0;32m<ipython-input-32-df2a06398b0a>\u001b[0m in \u001b[0;36mgetExperimentLogs\u001b[0;34m(self)\u001b[0m\n\u001b[1;32m     73\u001b[0m                     \u001b[0;32mcontinue\u001b[0m\u001b[0;34m\u001b[0m\u001b[0m\n\u001b[1;32m     74\u001b[0m \u001b[0;34m\u001b[0m\u001b[0m\n\u001b[0;32m---> 75\u001b[0;31m                 \u001b[0mself\u001b[0m\u001b[0;34m.\u001b[0m\u001b[0mrSync\u001b[0m\u001b[0;34m(\u001b[0m\u001b[0mself\u001b[0m\u001b[0;34m.\u001b[0m\u001b[0mkey_name\u001b[0m\u001b[0;34m,\u001b[0m\u001b[0minstance\u001b[0m\u001b[0;34m.\u001b[0m\u001b[0mpublic_dns_name\u001b[0m\u001b[0;34m)\u001b[0m\u001b[0;34m\u001b[0m\u001b[0m\n\u001b[0m\u001b[1;32m     76\u001b[0m \u001b[0;34m\u001b[0m\u001b[0m\n\u001b[1;32m     77\u001b[0m                 \u001b[0;32mtry\u001b[0m\u001b[0;34m:\u001b[0m\u001b[0;34m\u001b[0m\u001b[0m\n",
      "\u001b[0;31mTypeError\u001b[0m: rSync() takes 2 positional arguments but 3 were given"
     ]
    }
   ],
   "source": [
    "benchmark_td1.getExperimentLogs()"
   ]
  },
  {
   "cell_type": "code",
   "execution_count": 30,
   "metadata": {
    "collapsed": true
   },
   "outputs": [],
   "source": [
    "term_responses = [_.terminate() for _ in benchmark_td1.instances]"
   ]
  },
  {
   "cell_type": "code",
   "execution_count": null,
   "metadata": {
    "collapsed": false
   },
   "outputs": [],
   "source": [
    "for i in instance_types:\n",
    "    print(i)"
   ]
  },
  {
   "cell_type": "code",
   "execution_count": null,
   "metadata": {
    "collapsed": true
   },
   "outputs": [],
   "source": [
    "image_id=\"ami-a3b3d4b5\"\n",
    "key_name='dpcld_test1'"
   ]
  },
  {
   "cell_type": "code",
   "execution_count": null,
   "metadata": {
    "collapsed": true
   },
   "outputs": [],
   "source": [
    "client = boto3.client('ec2')\n",
    "ec2 = boto3.resource('ec2')"
   ]
  },
  {
   "cell_type": "code",
   "execution_count": null,
   "metadata": {
    "collapsed": false
   },
   "outputs": [],
   "source": [
    "num_inst = len(experiments)"
   ]
  },
  {
   "cell_type": "code",
   "execution_count": null,
   "metadata": {
    "collapsed": false
   },
   "outputs": [],
   "source": [
    "# rynek spot\n",
    "'''\n",
    "spotprices = client.describe_spot_price_history(InstanceTypes=['c4.2xlarge','p2.xlarge'],\n",
    "                                                StartTime=datetime.datetime.today()-datetime.timedelta(0.5),\n",
    "                                                EndTime=datetime.datetime.today()\n",
    "                                               )['SpotPriceHistory']\n",
    "prices = pd.DataFrame.from_records([(x.get('Timestamp'),x.get('InstanceType'),x.get('SpotPrice')) for x in spotprices])\n",
    "prices[2] = prices[2].astype(float)\n",
    "prices[4] = prices[0].apply(lambda x: x.date())\n",
    "prices.pivot_table(index=4, columns=1, values=2, aggfunc='median')\n",
    "%matplotlib inline\n",
    "prices.pivot_table(index=0, columns=1, values=2, aggfunc='mean').plot()\n",
    "spot_specs = {\"ImageID\":\"ami-4191b524\",\n",
    "             \"InstanceType\":\"t2.micro\",\n",
    "             \"Placement\":{\"AvailabilityZone\":\"us-east-2\"}}\n",
    "#spot\n",
    "response = client.request_spot_instances(SpotPrice = ,\n",
    "                                       LaunchSpecification = )\n",
    "'''"
   ]
  },
  {
   "cell_type": "code",
   "execution_count": null,
   "metadata": {
    "collapsed": false
   },
   "outputs": [],
   "source": [
    "len(response.get('Instances'))"
   ]
  },
  {
   "cell_type": "code",
   "execution_count": null,
   "metadata": {
    "collapsed": false
   },
   "outputs": [],
   "source": [
    "response.get('HTTPStatusCode')"
   ]
  },
  {
   "cell_type": "code",
   "execution_count": null,
   "metadata": {
    "collapsed": false
   },
   "outputs": [],
   "source": [
    "#key pair\n",
    "response = client.run_instances(ImageId=image_id,\n",
    "                                InstanceType=instance_type,\n",
    "                                MinCount=num_inst,\n",
    "                                MaxCount=num_inst,\n",
    "                                KeyName=key_name\n",
    "                               )\n",
    "#_instanceId=response.get('Instances')[0].get('InstanceId')"
   ]
  },
  {
   "cell_type": "code",
   "execution_count": null,
   "metadata": {
    "collapsed": false
   },
   "outputs": [],
   "source": [
    "instance_ids = []\n",
    "instance_ids.extend([_.get('InstanceId') for _ in response.get('Instances')])"
   ]
  },
  {
   "cell_type": "code",
   "execution_count": null,
   "metadata": {
    "collapsed": false
   },
   "outputs": [],
   "source": [
    "instances = [ec2.Instance(_) for _ in instance_ids]"
   ]
  },
  {
   "cell_type": "code",
   "execution_count": null,
   "metadata": {
    "collapsed": false
   },
   "outputs": [],
   "source": [
    "waiter = client.get_waiter('instance_status_ok')\n",
    "waiter.wait(InstanceIds=instance_ids)"
   ]
  },
  {
   "cell_type": "code",
   "execution_count": null,
   "metadata": {
    "collapsed": false
   },
   "outputs": [],
   "source": [
    "p_ids = []\n",
    "def configureInstance(instance, p_ids=p_ids):\n",
    "    env.host_string = 'ec2-user@{}'.format(instance.public_dns_name)\n",
    "    env.key_filename = '~/.ssh/dpcld_test1.pem'.format(key_name)\n",
    "    env.disable_known_hosts\n",
    "    fabric.operations.put('~/Studia/mgr/deepcloud/tests/test_mnist.py', '.')\n",
    "    run('sudo pip3 install git+git://github.com/fchollet/keras.git --upgrade')\n",
    "    run('sudo pip3 install pydot')\n",
    "    run('sudo pip3 install graphviz')\n",
    "    run('nohup python3 -u test_mnist.py >test_mnist.log 2>test_mnist.err < /dev/null &', pty=False)\n",
    "    p_ids.append({instance.id:run('pgrep -f \"python3 -u test\"')})"
   ]
  },
  {
   "cell_type": "code",
   "execution_count": null,
   "metadata": {
    "collapsed": false,
    "scrolled": true
   },
   "outputs": [],
   "source": [
    "configureInstance(instances[0])"
   ]
  },
  {
   "cell_type": "code",
   "execution_count": null,
   "metadata": {
    "collapsed": false
   },
   "outputs": [],
   "source": [
    "term_responses = [_.terminate() for _ in instances]"
   ]
  },
  {
   "cell_type": "code",
   "execution_count": null,
   "metadata": {
    "collapsed": false
   },
   "outputs": [],
   "source": [
    "term_responses"
   ]
  }
 ],
 "metadata": {
  "kernelspec": {
   "display_name": "Python 3",
   "language": "python",
   "name": "python3"
  },
  "language_info": {
   "codemirror_mode": {
    "name": "ipython",
    "version": 3
   },
   "file_extension": ".py",
   "mimetype": "text/x-python",
   "name": "python",
   "nbconvert_exporter": "python",
   "pygments_lexer": "ipython3",
   "version": "3.5.2"
  }
 },
 "nbformat": 4,
 "nbformat_minor": 2
}
