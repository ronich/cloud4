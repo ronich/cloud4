{
 "cells": [
  {
   "cell_type": "code",
   "execution_count": 41,
   "metadata": {
    "collapsed": false
   },
   "outputs": [],
   "source": [
    "import boto3, subprocess\n",
    "import datetime\n",
    "import time\n",
    "import pandas as pd\n",
    "import numpy as np\n",
    "import fabric\n",
    "from fabric.api import run, hide"
   ]
  },
  {
   "cell_type": "code",
   "execution_count": 42,
   "metadata": {
    "collapsed": false
   },
   "outputs": [],
   "source": [
    "class benchmark:\n",
    "    def __init__(self, experiments, instance_type, image_id=\"ami-a3b3d4b5\", key_name='dpcld_test1'):\n",
    "        self.experiments = experiments\n",
    "        self.instance_type = instance_type\n",
    "        self.image_id = image_id\n",
    "        self.key_name = key_name\n",
    "        self.run_date = datetime.date.strftime(datetime.date.today(), '%Y%m%d')\n",
    "        self.client = boto3.client('ec2')\n",
    "        self.ec2 = boto3.resource('ec2')\n",
    "        self.p_ids = []      \n",
    "        #self.instances = self.setUpInstances()\n",
    "        \n",
    "        #self.configureInstances()\n",
    "        \n",
    "    def setUpInstances(self):\n",
    "        num_inst = len(experiments)\n",
    "        \n",
    "        response = self.client.run_instances(ImageId=self.image_id,\n",
    "                                InstanceType=self.instance_type,\n",
    "                                MinCount=num_inst,\n",
    "                                MaxCount=num_inst,\n",
    "                                KeyName=self.key_name)\n",
    "\n",
    "        assert response.get('ResponseMetadata').get('HTTPStatusCode') == 200, \"Request ended with an error (HTTPStatusCode != 200)\"\n",
    "        assert len(response.get('Instances')) == num_inst, \"Number of instances launched is equal to specified\"\n",
    "        \n",
    "        instance_ids = []\n",
    "        instance_ids.extend([_.get('InstanceId') for _ in response.get('Instances')])\n",
    "              \n",
    "        waiter = self.client.get_waiter('instance_status_ok')\n",
    "        waiter.wait(InstanceIds=instance_ids)\n",
    "        \n",
    "        print('Set up instances: {}'.format(' '.join(instance_ids)))\n",
    "        \n",
    "        self.instances = [self.ec2.Instance(_) for _ in instance_ids]\n",
    "        \n",
    "        #return [self.ec2.Instance(_) for _ in instance_ids]\n",
    "    \n",
    "    def configureInstances(self):\n",
    "        [self.configureInstance(i, e) for i, e in zip(self.instances, self.experiments)]\n",
    "    \n",
    "    def configureInstance(self, instance, experiment):\n",
    "        instance.create_tags(Tags=[{'Key':'Name', 'Value':'{}_{} experiment'.format(*experiment)}])\n",
    "        fabric.api.env.host_string = 'ec2-user@{}'.format(instance.public_dns_name)\n",
    "        fabric.api.env.key_filename = '~/.ssh/{}.pem'.format(self.key_name)\n",
    "        fabric.api.env.disable_known_hosts\n",
    "        fabric.api.hide('output')\n",
    "        fabric.operations.put('~/Studia/mgr/deepcloud/tests/test_{}_{}.py'.format(*experiment), '.')\n",
    "        run('sudo pip3 install git+git://github.com/fchollet/keras.git --upgrade')\n",
    "        run('sudo pip3 install pydot')\n",
    "        run('sudo pip3 install graphviz')\n",
    "        \n",
    "    def runExperiments(self):\n",
    "        [self.runExperiment(i, e) for i, e in zip(self.instances, self.experiments)]\n",
    "        \n",
    "    def runExperiment(self, instance, experiment):\n",
    "        fabric.api.env.host_string = 'ec2-user@{}'.format(instance.public_dns_name)\n",
    "        run('nohup python3 -u test_{0}_{1}.py \\\n",
    "        --dataset {0} --architecture {1} --run_date {2} \\\n",
    "        >{2}_{0}_{1}.log 2>{2}_{0}_{1}.err < /dev/null &'.format(*experiment, self.run_date), pty=False)\n",
    "        self.p_ids.append((instance.id, run('pgrep -f \"python3 -u test\"')))\n",
    "\n",
    "    def getExperimentLogs(self):\n",
    "        running_instances = self.instances\n",
    "        \n",
    "        while running_instances:\n",
    "            for instance in self.instances:\n",
    "                fabric.api.env.host_string = 'ec2-user@{}'.format(instance.public_dns_name)\n",
    "                \n",
    "                status = benchmark_td1.client.describe_instance_status(InstanceIds=[instance.id])\\\n",
    "                .get('InstanceStatuses')[0]\\\n",
    "                .get('InstanceState')\\\n",
    "                .get('Name')\n",
    "\n",
    "                if status != 'running':\n",
    "                    print('Instance {} not running'.format(instance.id))\n",
    "                    running_instances.remove(instance)\n",
    "                    continue\n",
    "                    \n",
    "                self.rSync(instance.public_dns_name)\n",
    "                \n",
    "                try:\n",
    "                    run('pgrep -f \"python3 -u test\"')\n",
    "                except:\n",
    "                    print('Process on instance {} not found'.format(instance.id))\n",
    "                    running_instances.remove(instance)\n",
    "                    continue\n",
    "                    \n",
    "                time.sleep(1)\n",
    "                \n",
    "            print('{}: synchronized logs from all instances'.format(datetime.datetime.now().isoformat()))\n",
    "        else:\n",
    "            print('All instances are down or finished their tasks')\n",
    "\n",
    "    def rSync(self, public_dns):\n",
    "        fabric.operations.local('rsync -aL -e \"ssh -i ~/.ssh/{}.pem -o StrictHostKeyChecking=no\" \\\n",
    "        --include=\"/home/ec2-user/*\" --include=\"*.log\" --include=\"*.err\" \\\n",
    "        --include=\"*.out\" --include=\"*.png\" --exclude=\"*\" \\\n",
    "        ec2-user@{}:/home/ec2-user/ \\\n",
    "        ~/Studia/mgr/deepcloud/tests/logs/'\\\n",
    "                                .format(self.key_name, public_dns))\n",
    "        \n"
   ]
  },
  {
   "cell_type": "code",
   "execution_count": 43,
   "metadata": {
    "collapsed": false
   },
   "outputs": [],
   "source": [
    "experiments = [(\"mnist\",\"kerasdef\")]"
   ]
  },
  {
   "cell_type": "code",
   "execution_count": 44,
   "metadata": {
    "collapsed": false
   },
   "outputs": [],
   "source": [
    "benchmark_td1 = benchmark(experiments=experiments,instance_type='t2.micro')"
   ]
  },
  {
   "cell_type": "code",
   "execution_count": 45,
   "metadata": {
    "collapsed": false
   },
   "outputs": [
    {
     "name": "stdout",
     "output_type": "stream",
     "text": [
      "Set up instances: i-07b2550df46709938\n"
     ]
    }
   ],
   "source": [
    "benchmark_td1.setUpInstances()"
   ]
  },
  {
   "cell_type": "code",
   "execution_count": 46,
   "metadata": {
    "collapsed": false
   },
   "outputs": [
    {
     "name": "stdout",
     "output_type": "stream",
     "text": [
      "[ec2-user@ec2-54-173-26-62.compute-1.amazonaws.com] put: /home/roni/Studia/mgr/deepcloud/tests/test_mnist_kerasdef.py -> ./test_mnist_kerasdef.py\n",
      "[ec2-user@ec2-54-173-26-62.compute-1.amazonaws.com] run: sudo pip3 install git+git://github.com/fchollet/keras.git --upgrade\n",
      "[ec2-user@ec2-54-173-26-62.compute-1.amazonaws.com] out: Collecting git+git://github.com/fchollet/keras.git\n",
      "[ec2-user@ec2-54-173-26-62.compute-1.amazonaws.com] out:   Cloning git://github.com/fchollet/keras.git to /tmp/pip-yeadlr6g-build\n",
      "[ec2-user@ec2-54-173-26-62.compute-1.amazonaws.com] out: Collecting theano (from Keras==2.0.4)\n",
      "[ec2-user@ec2-54-173-26-62.compute-1.amazonaws.com] out:   Downloading Theano-0.9.0.tar.gz (3.1MB)\n",
      "[ec2-user@ec2-54-173-26-62.compute-1.amazonaws.com] out: \u001b[?25l\n",
      "[ec2-user@ec2-54-173-26-62.compute-1.amazonaws.com] out: \u001b[K    0% |                                | 10kB 19.1MB/s eta 0:00:01\n",
      "[ec2-user@ec2-54-173-26-62.compute-1.amazonaws.com] out: \u001b[K    0% |▏                               | 20kB 12.2MB/s eta 0:00:01\n",
      "[ec2-user@ec2-54-173-26-62.compute-1.amazonaws.com] out: \u001b[K    0% |▎                               | 30kB 6.0MB/s eta 0:00:01\n",
      "[ec2-user@ec2-54-173-26-62.compute-1.amazonaws.com] out: \u001b[K    1% |▍                               | 40kB 7.6MB/s eta 0:00:01\n",
      "[ec2-user@ec2-54-173-26-62.compute-1.amazonaws.com] out: \u001b[K    1% |▌                               | 51kB 8.1MB/s eta 0:00:01\n",
      "[ec2-user@ec2-54-173-26-62.compute-1.amazonaws.com] out: \u001b[K    1% |▋                               | 61kB 9.4MB/s eta 0:00:01\n",
      "[ec2-user@ec2-54-173-26-62.compute-1.amazonaws.com] out: \u001b[K    2% |▊                               | 71kB 8.3MB/s eta 0:00:01\n",
      "[ec2-user@ec2-54-173-26-62.compute-1.amazonaws.com] out: \u001b[K    2% |▉                               | 81kB 8.4MB/s eta 0:00:01\n",
      "[ec2-user@ec2-54-173-26-62.compute-1.amazonaws.com] out: \u001b[K    2% |█                               | 92kB 9.2MB/s eta 0:00:01\n",
      "[ec2-user@ec2-54-173-26-62.compute-1.amazonaws.com] out: \u001b[K    3% |█                               | 102kB 9.6MB/s eta 0:00:01\n",
      "[ec2-user@ec2-54-173-26-62.compute-1.amazonaws.com] out: \u001b[K    3% |█▏                              | 112kB 9.0MB/s eta 0:00:01\n",
      "[ec2-user@ec2-54-173-26-62.compute-1.amazonaws.com] out: \u001b[K    3% |█▎                              | 122kB 9.8MB/s eta 0:00:01\n",
      "[ec2-user@ec2-54-173-26-62.compute-1.amazonaws.com] out: \u001b[K    4% |█▍                              | 133kB 13.0MB/s eta 0:00:01\n",
      "[ec2-user@ec2-54-173-26-62.compute-1.amazonaws.com] out: \u001b[K    4% |█▌                              | 143kB 13.1MB/s eta 0:00:01\n",
      "[ec2-user@ec2-54-173-26-62.compute-1.amazonaws.com] out: \u001b[K    4% |█▋                              | 153kB 12.3MB/s eta 0:00:01\n",
      "[ec2-user@ec2-54-173-26-62.compute-1.amazonaws.com] out: \u001b[K    5% |█▊                              | 163kB 11.5MB/s eta 0:00:01\n",
      "[ec2-user@ec2-54-173-26-62.compute-1.amazonaws.com] out: \u001b[K    5% |█▉                              | 174kB 14.6MB/s eta 0:00:01\n",
      "[ec2-user@ec2-54-173-26-62.compute-1.amazonaws.com] out: \u001b[K    5% |██                              | 184kB 15.3MB/s eta 0:00:01\n",
      "[ec2-user@ec2-54-173-26-62.compute-1.amazonaws.com] out: \u001b[K    6% |██                              | 194kB 14.5MB/s eta 0:00:01\n",
      "[ec2-user@ec2-54-173-26-62.compute-1.amazonaws.com] out: \u001b[K    6% |██                              | 204kB 15.5MB/s eta 0:00:01\n",
      "[ec2-user@ec2-54-173-26-62.compute-1.amazonaws.com] out: \u001b[K    6% |██▏                             | 215kB 17.2MB/s eta 0:00:01\n",
      "[ec2-user@ec2-54-173-26-62.compute-1.amazonaws.com] out: \u001b[K    7% |██▎                             | 225kB 17.1MB/s eta 0:00:01\n",
      "[ec2-user@ec2-54-173-26-62.compute-1.amazonaws.com] out: \u001b[K    7% |██▍                             | 235kB 18.4MB/s eta 0:00:01\n",
      "[ec2-user@ec2-54-173-26-62.compute-1.amazonaws.com] out: \u001b[K    7% |██▌                             | 245kB 16.5MB/s eta 0:00:01\n",
      "[ec2-user@ec2-54-173-26-62.compute-1.amazonaws.com] out: \u001b[K    8% |██▋                             | 256kB 20.6MB/s eta 0:00:01\n",
      "[ec2-user@ec2-54-173-26-62.compute-1.amazonaws.com] out: \u001b[K    8% |██▊                             | 266kB 21.7MB/s eta 0:00:01\n",
      "[ec2-user@ec2-54-173-26-62.compute-1.amazonaws.com] out: \u001b[K    8% |██▉                             | 276kB 19.5MB/s eta 0:00:01\n",
      "[ec2-user@ec2-54-173-26-62.compute-1.amazonaws.com] out: \u001b[K    9% |███                             | 286kB 22.1MB/s eta 0:00:01\n",
      "[ec2-user@ec2-54-173-26-62.compute-1.amazonaws.com] out: \u001b[K    9% |███                             | 296kB 23.2MB/s eta 0:00:01\n",
      "[ec2-user@ec2-54-173-26-62.compute-1.amazonaws.com] out: \u001b[K    9% |███▏                            | 307kB 23.2MB/s eta 0:00:01\n",
      "[ec2-user@ec2-54-173-26-62.compute-1.amazonaws.com] out: \u001b[K    10% |███▎                            | 317kB 24.1MB/s eta 0:00:01\n",
      "[ec2-user@ec2-54-173-26-62.compute-1.amazonaws.com] out: \u001b[K    10% |███▍                            | 327kB 22.4MB/s eta 0:00:01\n",
      "[ec2-user@ec2-54-173-26-62.compute-1.amazonaws.com] out: \u001b[K    10% |███▌                            | 337kB 23.6MB/s eta 0:00:01\n",
      "[ec2-user@ec2-54-173-26-62.compute-1.amazonaws.com] out: \u001b[K    11% |███▋                            | 348kB 25.6MB/s eta 0:00:01\n",
      "[ec2-user@ec2-54-173-26-62.compute-1.amazonaws.com] out: \u001b[K    11% |███▊                            | 358kB 23.3MB/s eta 0:00:01\n",
      "[ec2-user@ec2-54-173-26-62.compute-1.amazonaws.com] out: \u001b[K    11% |███▉                            | 368kB 25.3MB/s eta 0:00:01\n",
      "[ec2-user@ec2-54-173-26-62.compute-1.amazonaws.com] out: \u001b[K    12% |████                            | 378kB 28.5MB/s eta 0:00:01\n",
      "[ec2-user@ec2-54-173-26-62.compute-1.amazonaws.com] out: \u001b[K    12% |████                            | 389kB 28.6MB/s eta 0:00:01\n",
      "[ec2-user@ec2-54-173-26-62.compute-1.amazonaws.com] out: \u001b[K    12% |████                            | 399kB 29.2MB/s eta 0:00:01\n",
      "[ec2-user@ec2-54-173-26-62.compute-1.amazonaws.com] out: \u001b[K    13% |████▏                           | 409kB 25.9MB/s eta 0:00:01\n",
      "[ec2-user@ec2-54-173-26-62.compute-1.amazonaws.com] out: \u001b[K    13% |████▎                           | 419kB 28.0MB/s eta 0:00:01\n",
      "[ec2-user@ec2-54-173-26-62.compute-1.amazonaws.com] out: \u001b[K    13% |████▍                           | 430kB 30.0MB/s eta 0:00:01\n",
      "[ec2-user@ec2-54-173-26-62.compute-1.amazonaws.com] out: \u001b[K    14% |████▌                           | 440kB 26.5MB/s eta 0:00:01\n",
      "[ec2-user@ec2-54-173-26-62.compute-1.amazonaws.com] out: \u001b[K    14% |████▋                           | 450kB 28.9MB/s eta 0:00:01\n",
      "[ec2-user@ec2-54-173-26-62.compute-1.amazonaws.com] out: \u001b[K    14% |████▊                           | 460kB 31.6MB/s eta 0:00:01\n",
      "[ec2-user@ec2-54-173-26-62.compute-1.amazonaws.com] out: \u001b[K    15% |████▉                           | 471kB 31.3MB/s eta 0:00:01\n",
      "[ec2-user@ec2-54-173-26-62.compute-1.amazonaws.com] out: \u001b[K    15% |█████                           | 481kB 31.8MB/s eta 0:00:01\n",
      "[ec2-user@ec2-54-173-26-62.compute-1.amazonaws.com] out: \u001b[K    15% |█████                           | 491kB 27.6MB/s eta 0:00:01\n",
      "[ec2-user@ec2-54-173-26-62.compute-1.amazonaws.com] out: \u001b[K    16% |█████▏                          | 501kB 28.3MB/s eta 0:00:01\n",
      "[ec2-user@ec2-54-173-26-62.compute-1.amazonaws.com] out: \u001b[K    16% |█████▎                          | 512kB 29.4MB/s eta 0:00:01\n",
      "[ec2-user@ec2-54-173-26-62.compute-1.amazonaws.com] out: \u001b[K    16% |█████▍                          | 522kB 29.1MB/s eta 0:00:01\n",
      "[ec2-user@ec2-54-173-26-62.compute-1.amazonaws.com] out: \u001b[K    17% |█████▌                          | 532kB 29.4MB/s eta 0:00:01\n",
      "[ec2-user@ec2-54-173-26-62.compute-1.amazonaws.com] out: \u001b[K    17% |█████▋                          | 542kB 30.5MB/s eta 0:00:01\n",
      "[ec2-user@ec2-54-173-26-62.compute-1.amazonaws.com] out: \u001b[K    17% |█████▊                          | 552kB 30.0MB/s eta 0:00:01\n",
      "[ec2-user@ec2-54-173-26-62.compute-1.amazonaws.com] out: \u001b[K    18% |█████▉                          | 563kB 30.1MB/s eta 0:00:01\n",
      "[ec2-user@ec2-54-173-26-62.compute-1.amazonaws.com] out: \u001b[K    18% |█████▉                          | 573kB 30.3MB/s eta 0:00:01\n",
      "[ec2-user@ec2-54-173-26-62.compute-1.amazonaws.com] out: \u001b[K    18% |██████                          | 583kB 30.6MB/s eta 0:00:01\n",
      "[ec2-user@ec2-54-173-26-62.compute-1.amazonaws.com] out: \u001b[K    19% |██████                          | 593kB 29.3MB/s eta 0:00:01\n",
      "[ec2-user@ec2-54-173-26-62.compute-1.amazonaws.com] out: \u001b[K    19% |██████▏                         | 604kB 28.2MB/s eta 0:00:01\n",
      "[ec2-user@ec2-54-173-26-62.compute-1.amazonaws.com] out: \u001b[K    19% |██████▎                         | 614kB 30.9MB/s eta 0:00:01\n",
      "[ec2-user@ec2-54-173-26-62.compute-1.amazonaws.com] out: \u001b[K    20% |██████▍                         | 624kB 30.7MB/s eta 0:00:01\n",
      "[ec2-user@ec2-54-173-26-62.compute-1.amazonaws.com] out: \u001b[K    20% |██████▌                         | 634kB 31.1MB/s eta 0:00:01\n",
      "[ec2-user@ec2-54-173-26-62.compute-1.amazonaws.com] out: \u001b[K    20% |██████▋                         | 645kB 31.4MB/s eta 0:00:01\n",
      "[ec2-user@ec2-54-173-26-62.compute-1.amazonaws.com] out: \u001b[K    21% |██████▊                         | 655kB 31.3MB/s eta 0:00:01\n",
      "[ec2-user@ec2-54-173-26-62.compute-1.amazonaws.com] out: \u001b[K    21% |██████▉                         | 665kB 31.2MB/s eta 0:00:01\n",
      "[ec2-user@ec2-54-173-26-62.compute-1.amazonaws.com] out: \u001b[K    21% |███████                         | 675kB 30.8MB/s eta 0:00:01\n",
      "[ec2-user@ec2-54-173-26-62.compute-1.amazonaws.com] out: \u001b[K    22% |███████                         | 686kB 27.8MB/s eta 0:00:01\n",
      "[ec2-user@ec2-54-173-26-62.compute-1.amazonaws.com] out: \u001b[K    22% |███████▏                        | 696kB 33.0MB/s eta 0:00:01\n",
      "[ec2-user@ec2-54-173-26-62.compute-1.amazonaws.com] out: \u001b[K    22% |███████▎                        | 706kB 33.5MB/s eta 0:00:01\n",
      "[ec2-user@ec2-54-173-26-62.compute-1.amazonaws.com] out: \u001b[K    22% |███████▍                        | 716kB 32.7MB/s eta 0:00:01\n",
      "[ec2-user@ec2-54-173-26-62.compute-1.amazonaws.com] out: \u001b[K    23% |███████▌                        | 727kB 32.7MB/s eta 0:00:01\n",
      "[ec2-user@ec2-54-173-26-62.compute-1.amazonaws.com] out: \u001b[K    23% |███████▋                        | 737kB 32.4MB/s eta 0:00:01\n",
      "[ec2-user@ec2-54-173-26-62.compute-1.amazonaws.com] out: \u001b[K    23% |███████▊                        | 747kB 36.0MB/s eta 0:00:01\n",
      "[ec2-user@ec2-54-173-26-62.compute-1.amazonaws.com] out: \u001b[K    24% |███████▉                        | 757kB 35.6MB/s eta 0:00:01\n",
      "[ec2-user@ec2-54-173-26-62.compute-1.amazonaws.com] out: \u001b[K    24% |███████▉                        | 768kB 32.7MB/s eta 0:00:01\n",
      "[ec2-user@ec2-54-173-26-62.compute-1.amazonaws.com] out: \u001b[K    24% |████████                        | 778kB 32.9MB/s eta 0:00:01\n",
      "[ec2-user@ec2-54-173-26-62.compute-1.amazonaws.com] out: \u001b[K    25% |████████                        | 788kB 36.9MB/s eta 0:00:01\n",
      "[ec2-user@ec2-54-173-26-62.compute-1.amazonaws.com] out: \u001b[K    25% |████████▏                       | 798kB 37.6MB/s eta 0:00:01\n",
      "[ec2-user@ec2-54-173-26-62.compute-1.amazonaws.com] out: \u001b[K    25% |████████▎                       | 808kB 36.6MB/s eta 0:00:01\n",
      "[ec2-user@ec2-54-173-26-62.compute-1.amazonaws.com] out: \u001b[K    26% |████████▍                       | 819kB 36.4MB/s eta 0:00:01\n",
      "[ec2-user@ec2-54-173-26-62.compute-1.amazonaws.com] out: \u001b[K    26% |████████▌                       | 829kB 36.8MB/s eta 0:00:01\n",
      "[ec2-user@ec2-54-173-26-62.compute-1.amazonaws.com] out: \u001b[K    26% |████████▋                       | 839kB 35.7MB/s eta 0:00:01\n",
      "[ec2-user@ec2-54-173-26-62.compute-1.amazonaws.com] out: \u001b[K    27% |████████▊                       | 849kB 35.3MB/s eta 0:00:01\n",
      "[ec2-user@ec2-54-173-26-62.compute-1.amazonaws.com] out: \u001b[K    27% |████████▉                       | 860kB 35.2MB/s eta 0:00:01\n",
      "[ec2-user@ec2-54-173-26-62.compute-1.amazonaws.com] out: \u001b[K    27% |█████████                       | 870kB 38.8MB/s eta 0:00:01\n",
      "[ec2-user@ec2-54-173-26-62.compute-1.amazonaws.com] out: \u001b[K    28% |█████████                       | 880kB 39.2MB/s eta 0:00:01\n",
      "[ec2-user@ec2-54-173-26-62.compute-1.amazonaws.com] out: \u001b[K    28% |█████████▏                      | 890kB 38.0MB/s eta 0:00:01\n",
      "[ec2-user@ec2-54-173-26-62.compute-1.amazonaws.com] out: \u001b[K    28% |█████████▎                      | 901kB 37.7MB/s eta 0:00:01\n",
      "[ec2-user@ec2-54-173-26-62.compute-1.amazonaws.com] out: \u001b[K    29% |█████████▍                      | 911kB 40.3MB/s eta 0:00:01\n",
      "[ec2-user@ec2-54-173-26-62.compute-1.amazonaws.com] out: \u001b[K    29% |█████████▌                      | 921kB 39.3MB/s eta 0:00:01\n",
      "[ec2-user@ec2-54-173-26-62.compute-1.amazonaws.com] out: \u001b[K    29% |█████████▋                      | 931kB 37.9MB/s eta 0:00:01\n",
      "[ec2-user@ec2-54-173-26-62.compute-1.amazonaws.com] out: \u001b[K    30% |█████████▊                      | 942kB 38.1MB/s eta 0:00:01\n",
      "[ec2-user@ec2-54-173-26-62.compute-1.amazonaws.com] out: \u001b[K    30% |█████████▊                      | 952kB 38.0MB/s eta 0:00:01\n",
      "[ec2-user@ec2-54-173-26-62.compute-1.amazonaws.com] out: \u001b[K    30% |█████████▉                      | 962kB 39.5MB/s eta 0:00:01\n",
      "[ec2-user@ec2-54-173-26-62.compute-1.amazonaws.com] out: \u001b[K    31% |██████████                      | 972kB 40.7MB/s eta 0:00:01\n",
      "[ec2-user@ec2-54-173-26-62.compute-1.amazonaws.com] out: \u001b[K    31% |██████████                      | 983kB 37.2MB/s eta 0:00:01\n",
      "[ec2-user@ec2-54-173-26-62.compute-1.amazonaws.com] out: \u001b[K    31% |██████████▏                     | 993kB 38.5MB/s eta 0:00:01\n",
      "[ec2-user@ec2-54-173-26-62.compute-1.amazonaws.com] out: \u001b[K    32% |██████████▎                     | 1.0MB 36.8MB/s eta 0:00:01\n",
      "[ec2-user@ec2-54-173-26-62.compute-1.amazonaws.com] out: \u001b[K    32% |██████████▍                     | 1.0MB 35.9MB/s eta 0:00:01\n",
      "[ec2-user@ec2-54-173-26-62.compute-1.amazonaws.com] out: \u001b[K    32% |██████████▌                     | 1.0MB 36.6MB/s eta 0:00:01\n",
      "[ec2-user@ec2-54-173-26-62.compute-1.amazonaws.com] out: \u001b[K    33% |██████████▋                     | 1.0MB 37.3MB/s eta 0:00:01\n",
      "[ec2-user@ec2-54-173-26-62.compute-1.amazonaws.com] out: \u001b[K    33% |██████████▊                     | 1.0MB 38.3MB/s eta 0:00:01\n",
      "[ec2-user@ec2-54-173-26-62.compute-1.amazonaws.com] out: \u001b[K    33% |██████████▉                     | 1.1MB 36.6MB/s eta 0:00:01\n",
      "[ec2-user@ec2-54-173-26-62.compute-1.amazonaws.com] out: \u001b[K    34% |███████████                     | 1.1MB 36.2MB/s eta 0:00:01\n",
      "[ec2-user@ec2-54-173-26-62.compute-1.amazonaws.com] out: \u001b[K    34% |███████████                     | 1.1MB 36.6MB/s eta 0:00:01\n",
      "[ec2-user@ec2-54-173-26-62.compute-1.amazonaws.com] out: \u001b[K    34% |███████████▏                    | 1.1MB 37.7MB/s eta 0:00:01\n",
      "[ec2-user@ec2-54-173-26-62.compute-1.amazonaws.com] out: \u001b[K    35% |███████████▎                    | 1.1MB 36.7MB/s eta 0:00:01\n",
      "[ec2-user@ec2-54-173-26-62.compute-1.amazonaws.com] out: \u001b[K    35% |███████████▍                    | 1.1MB 37.4MB/s eta 0:00:01\n",
      "[ec2-user@ec2-54-173-26-62.compute-1.amazonaws.com] out: \u001b[K    35% |███████████▌                    | 1.1MB 37.7MB/s eta 0:00:01\n",
      "[ec2-user@ec2-54-173-26-62.compute-1.amazonaws.com] out: \u001b[K    36% |███████████▋                    | 1.1MB 38.5MB/s eta 0:00:01\n",
      "[ec2-user@ec2-54-173-26-62.compute-1.amazonaws.com] out: \u001b[K    36% |███████████▊                    | 1.1MB 37.8MB/s eta 0:00:01\n",
      "[ec2-user@ec2-54-173-26-62.compute-1.amazonaws.com] out: \u001b[K    36% |███████████▊                    | 1.1MB 37.8MB/s eta 0:00:01\n",
      "[ec2-user@ec2-54-173-26-62.compute-1.amazonaws.com] out: \u001b[K    37% |███████████▉                    | 1.2MB 40.2MB/s eta 0:00:01\n",
      "[ec2-user@ec2-54-173-26-62.compute-1.amazonaws.com] out: \u001b[K    37% |████████████                    | 1.2MB 39.2MB/s eta 0:00:01\n",
      "[ec2-user@ec2-54-173-26-62.compute-1.amazonaws.com] out: \u001b[K    37% |████████████                    | 1.2MB 36.7MB/s eta 0:00:01\n",
      "[ec2-user@ec2-54-173-26-62.compute-1.amazonaws.com] out: \u001b[K    38% |████████████▏                   | 1.2MB 38.3MB/s eta 0:00:01\n",
      "[ec2-user@ec2-54-173-26-62.compute-1.amazonaws.com] out: \u001b[K    38% |████████████▎                   | 1.2MB 39.6MB/s eta 0:00:01\n",
      "[ec2-user@ec2-54-173-26-62.compute-1.amazonaws.com] out: \u001b[K    38% |████████████▍                   | 1.2MB 40.7MB/s eta 0:00:01\n",
      "[ec2-user@ec2-54-173-26-62.compute-1.amazonaws.com] out: \u001b[K    39% |████████████▌                   | 1.2MB 39.1MB/s eta 0:00:01\n",
      "[ec2-user@ec2-54-173-26-62.compute-1.amazonaws.com] out: \u001b[K    39% |████████████▋                   | 1.2MB 37.3MB/s eta 0:00:01\n",
      "[ec2-user@ec2-54-173-26-62.compute-1.amazonaws.com] out: \u001b[K    39% |████████████▊                   | 1.2MB 38.4MB/s eta 0:00:01\n",
      "[ec2-user@ec2-54-173-26-62.compute-1.amazonaws.com] out: \u001b[K    40% |████████████▉                   | 1.2MB 38.3MB/s eta 0:00:01\n",
      "[ec2-user@ec2-54-173-26-62.compute-1.amazonaws.com] out: \u001b[K    40% |█████████████                   | 1.3MB 37.9MB/s eta 0:00:01\n",
      "[ec2-user@ec2-54-173-26-62.compute-1.amazonaws.com] out: \u001b[K    40% |█████████████                   | 1.3MB 38.1MB/s eta 0:00:01\n",
      "[ec2-user@ec2-54-173-26-62.compute-1.amazonaws.com] out: \u001b[K    41% |█████████████▏                  | 1.3MB 38.5MB/s eta 0:00:01\n",
      "[ec2-user@ec2-54-173-26-62.compute-1.amazonaws.com] out: \u001b[K    41% |█████████████▎                  | 1.3MB 37.6MB/s eta 0:00:01\n",
      "[ec2-user@ec2-54-173-26-62.compute-1.amazonaws.com] out: \u001b[K    41% |█████████████▍                  | 1.3MB 36.6MB/s eta 0:00:01\n",
      "[ec2-user@ec2-54-173-26-62.compute-1.amazonaws.com] out: \u001b[K    42% |█████████████▌                  | 1.3MB 36.6MB/s eta 0:00:01\n",
      "[ec2-user@ec2-54-173-26-62.compute-1.amazonaws.com] out: \u001b[K    42% |█████████████▋                  | 1.3MB 37.7MB/s eta 0:00:01\n",
      "[ec2-user@ec2-54-173-26-62.compute-1.amazonaws.com] out: \u001b[K    42% |█████████████▊                  | 1.3MB 38.1MB/s eta 0:00:01\n",
      "[ec2-user@ec2-54-173-26-62.compute-1.amazonaws.com] out: \u001b[K    43% |█████████████▊                  | 1.3MB 37.6MB/s eta 0:00:01\n",
      "[ec2-user@ec2-54-173-26-62.compute-1.amazonaws.com] out: \u001b[K    43% |█████████████▉                  | 1.4MB 36.7MB/s eta 0:00:01\n",
      "[ec2-user@ec2-54-173-26-62.compute-1.amazonaws.com] out: \u001b[K    43% |██████████████                  | 1.4MB 35.4MB/s eta 0:00:01\n",
      "[ec2-user@ec2-54-173-26-62.compute-1.amazonaws.com] out: \u001b[K    44% |██████████████                  | 1.4MB 36.1MB/s eta 0:00:01\n",
      "[ec2-user@ec2-54-173-26-62.compute-1.amazonaws.com] out: \u001b[K    44% |██████████████▏                 | 1.4MB 37.3MB/s eta 0:00:01\n",
      "[ec2-user@ec2-54-173-26-62.compute-1.amazonaws.com] out: \u001b[K    44% |██████████████▎                 | 1.4MB 36.7MB/s eta 0:00:01\n",
      "[ec2-user@ec2-54-173-26-62.compute-1.amazonaws.com] out: \u001b[K    45% |██████████████▍                 | 1.4MB 37.6MB/s eta 0:00:01\n",
      "[ec2-user@ec2-54-173-26-62.compute-1.amazonaws.com] out: \u001b[K    45% |██████████████▌                 | 1.4MB 35.5MB/s eta 0:00:01\n",
      "[ec2-user@ec2-54-173-26-62.compute-1.amazonaws.com] out: \u001b[K    45% |██████████████▋                 | 1.4MB 34.9MB/s eta 0:00:01\n",
      "[ec2-user@ec2-54-173-26-62.compute-1.amazonaws.com] out: \u001b[K    45% |██████████████▊                 | 1.4MB 35.4MB/s eta 0:00:01\n",
      "[ec2-user@ec2-54-173-26-62.compute-1.amazonaws.com] out: \u001b[K    46% |██████████████▉                 | 1.4MB 36.1MB/s eta 0:00:01\n",
      "[ec2-user@ec2-54-173-26-62.compute-1.amazonaws.com] out: \u001b[K    46% |███████████████                 | 1.5MB 37.5MB/s eta 0:00:01\n",
      "[ec2-user@ec2-54-173-26-62.compute-1.amazonaws.com] out: \u001b[K    46% |███████████████                 | 1.5MB 36.8MB/s eta 0:00:01\n",
      "[ec2-user@ec2-54-173-26-62.compute-1.amazonaws.com] out: \u001b[K    47% |███████████████▏                | 1.5MB 35.9MB/s eta 0:00:01\n",
      "[ec2-user@ec2-54-173-26-62.compute-1.amazonaws.com] out: \u001b[K    47% |███████████████▎                | 1.5MB 34.6MB/s eta 0:00:01\n",
      "[ec2-user@ec2-54-173-26-62.compute-1.amazonaws.com] out: \u001b[K    47% |███████████████▍                | 1.5MB 34.9MB/s eta 0:00:01\n",
      "[ec2-user@ec2-54-173-26-62.compute-1.amazonaws.com] out: \u001b[K    48% |███████████████▌                | 1.5MB 35.5MB/s eta 0:00:01\n",
      "[ec2-user@ec2-54-173-26-62.compute-1.amazonaws.com] out: \u001b[K    48% |███████████████▋                | 1.5MB 37.7MB/s eta 0:00:01\n",
      "[ec2-user@ec2-54-173-26-62.compute-1.amazonaws.com] out: \u001b[K    48% |███████████████▋                | 1.5MB 39.0MB/s eta 0:00:01\n",
      "[ec2-user@ec2-54-173-26-62.compute-1.amazonaws.com] out: \u001b[K    49% |███████████████▊                | 1.5MB 39.1MB/s eta 0:00:01\n",
      "[ec2-user@ec2-54-173-26-62.compute-1.amazonaws.com] out: \u001b[K    49% |███████████████▉                | 1.5MB 37.5MB/s eta 0:00:01\n",
      "[ec2-user@ec2-54-173-26-62.compute-1.amazonaws.com] out: \u001b[K    49% |████████████████                | 1.6MB 36.6MB/s eta 0:00:01\n",
      "[ec2-user@ec2-54-173-26-62.compute-1.amazonaws.com] out: \u001b[K    50% |████████████████                | 1.6MB 37.2MB/s eta 0:00:01\n",
      "[ec2-user@ec2-54-173-26-62.compute-1.amazonaws.com] out: \u001b[K    50% |████████████████▏               | 1.6MB 36.4MB/s eta 0:00:01\n",
      "[ec2-user@ec2-54-173-26-62.compute-1.amazonaws.com] out: \u001b[K    50% |████████████████▎               | 1.6MB 37.7MB/s eta 0:00:01\n",
      "[ec2-user@ec2-54-173-26-62.compute-1.amazonaws.com] out: \u001b[K    51% |████████████████▍               | 1.6MB 38.8MB/s eta 0:00:01\n",
      "[ec2-user@ec2-54-173-26-62.compute-1.amazonaws.com] out: \u001b[K    51% |████████████████▌               | 1.6MB 37.1MB/s eta 0:00:01\n",
      "[ec2-user@ec2-54-173-26-62.compute-1.amazonaws.com] out: \u001b[K    51% |████████████████▋               | 1.6MB 36.2MB/s eta 0:00:01\n",
      "[ec2-user@ec2-54-173-26-62.compute-1.amazonaws.com] out: \u001b[K    52% |████████████████▊               | 1.6MB 34.8MB/s eta 0:00:01\n",
      "[ec2-user@ec2-54-173-26-62.compute-1.amazonaws.com] out: \u001b[K    52% |████████████████▉               | 1.6MB 34.6MB/s eta 0:00:01\n",
      "[ec2-user@ec2-54-173-26-62.compute-1.amazonaws.com] out: \u001b[K    52% |█████████████████               | 1.6MB 34.6MB/s eta 0:00:01\n",
      "[ec2-user@ec2-54-173-26-62.compute-1.amazonaws.com] out: \u001b[K    53% |█████████████████               | 1.7MB 34.5MB/s eta 0:00:01\n",
      "[ec2-user@ec2-54-173-26-62.compute-1.amazonaws.com] out: \u001b[K    53% |█████████████████▏              | 1.7MB 35.6MB/s eta 0:00:01\n",
      "[ec2-user@ec2-54-173-26-62.compute-1.amazonaws.com] out: \u001b[K    53% |█████████████████▎              | 1.7MB 35.4MB/s eta 0:00:01\n",
      "[ec2-user@ec2-54-173-26-62.compute-1.amazonaws.com] out: \u001b[K    54% |█████████████████▍              | 1.7MB 34.2MB/s eta 0:00:01\n",
      "[ec2-user@ec2-54-173-26-62.compute-1.amazonaws.com] out: \u001b[K    54% |█████████████████▌              | 1.7MB 33.5MB/s eta 0:00:01\n",
      "[ec2-user@ec2-54-173-26-62.compute-1.amazonaws.com] out: \u001b[K    54% |█████████████████▋              | 1.7MB 33.4MB/s eta 0:00:01\n",
      "[ec2-user@ec2-54-173-26-62.compute-1.amazonaws.com] out: \u001b[K    55% |█████████████████▋              | 1.7MB 33.2MB/s eta 0:00:01\n",
      "[ec2-user@ec2-54-173-26-62.compute-1.amazonaws.com] out: \u001b[K    55% |█████████████████▊              | 1.7MB 34.3MB/s eta 0:00:01\n",
      "[ec2-user@ec2-54-173-26-62.compute-1.amazonaws.com] out: \u001b[K    55% |█████████████████▉              | 1.7MB 35.0MB/s eta 0:00:01\n",
      "[ec2-user@ec2-54-173-26-62.compute-1.amazonaws.com] out: \u001b[K    56% |██████████████████              | 1.8MB 36.6MB/s eta 0:00:01\n",
      "[ec2-user@ec2-54-173-26-62.compute-1.amazonaws.com] out: \u001b[K    56% |██████████████████              | 1.8MB 35.9MB/s eta 0:00:01\n",
      "[ec2-user@ec2-54-173-26-62.compute-1.amazonaws.com] out: \u001b[K    56% |██████████████████▏             | 1.8MB 35.7MB/s eta 0:00:01\n",
      "[ec2-user@ec2-54-173-26-62.compute-1.amazonaws.com] out: \u001b[K    57% |██████████████████▎             | 1.8MB 38.0MB/s eta 0:00:01\n",
      "[ec2-user@ec2-54-173-26-62.compute-1.amazonaws.com] out: \u001b[K    57% |██████████████████▍             | 1.8MB 38.2MB/s eta 0:00:01\n",
      "[ec2-user@ec2-54-173-26-62.compute-1.amazonaws.com] out: \u001b[K    57% |██████████████████▌             | 1.8MB 39.0MB/s eta 0:00:01\n",
      "[ec2-user@ec2-54-173-26-62.compute-1.amazonaws.com] out: \u001b[K    58% |██████████████████▋             | 1.8MB 40.2MB/s eta 0:00:01\n",
      "[ec2-user@ec2-54-173-26-62.compute-1.amazonaws.com] out: \u001b[K    58% |██████████████████▊             | 1.8MB 40.4MB/s eta 0:00:01\n",
      "[ec2-user@ec2-54-173-26-62.compute-1.amazonaws.com] out: \u001b[K    58% |██████████████████▉             | 1.8MB 41.1MB/s eta 0:00:01\n",
      "[ec2-user@ec2-54-173-26-62.compute-1.amazonaws.com] out: \u001b[K    59% |███████████████████             | 1.8MB 39.3MB/s eta 0:00:01\n",
      "[ec2-user@ec2-54-173-26-62.compute-1.amazonaws.com] out: \u001b[K    59% |███████████████████             | 1.9MB 37.5MB/s eta 0:00:01\n",
      "[ec2-user@ec2-54-173-26-62.compute-1.amazonaws.com] out: \u001b[K    59% |███████████████████▏            | 1.9MB 39.4MB/s eta 0:00:01\n",
      "[ec2-user@ec2-54-173-26-62.compute-1.amazonaws.com] out: \u001b[K    60% |███████████████████▎            | 1.9MB 39.9MB/s eta 0:00:01\n",
      "[ec2-user@ec2-54-173-26-62.compute-1.amazonaws.com] out: \u001b[K    60% |███████████████████▍            | 1.9MB 38.9MB/s eta 0:00:01\n",
      "[ec2-user@ec2-54-173-26-62.compute-1.amazonaws.com] out: \u001b[K    60% |███████████████████▌            | 1.9MB 39.7MB/s eta 0:00:01\n",
      "[ec2-user@ec2-54-173-26-62.compute-1.amazonaws.com] out: \u001b[K    61% |███████████████████▌            | 1.9MB 40.2MB/s eta 0:00:01\n",
      "[ec2-user@ec2-54-173-26-62.compute-1.amazonaws.com] out: \u001b[K    61% |███████████████████▋            | 1.9MB 41.3MB/s eta 0:00:01\n",
      "[ec2-user@ec2-54-173-26-62.compute-1.amazonaws.com] out: \u001b[K    61% |███████████████████▊            | 1.9MB 41.1MB/s eta 0:00:01\n",
      "[ec2-user@ec2-54-173-26-62.compute-1.amazonaws.com] out: \u001b[K    62% |███████████████████▉            | 1.9MB 38.8MB/s eta 0:00:01\n",
      "[ec2-user@ec2-54-173-26-62.compute-1.amazonaws.com] out: \u001b[K    62% |████████████████████            | 1.9MB 41.1MB/s eta 0:00:01\n",
      "[ec2-user@ec2-54-173-26-62.compute-1.amazonaws.com] out: \u001b[K    62% |████████████████████            | 2.0MB 42.6MB/s eta 0:00:01\n",
      "[ec2-user@ec2-54-173-26-62.compute-1.amazonaws.com] out: \u001b[K    63% |████████████████████▏           | 2.0MB 42.6MB/s eta 0:00:01\n",
      "[ec2-user@ec2-54-173-26-62.compute-1.amazonaws.com] out: \u001b[K    63% |████████████████████▎           | 2.0MB 39.3MB/s eta 0:00:01\n",
      "[ec2-user@ec2-54-173-26-62.compute-1.amazonaws.com] out: \u001b[K    63% |████████████████████▍           | 2.0MB 38.9MB/s eta 0:00:01\n",
      "[ec2-user@ec2-54-173-26-62.compute-1.amazonaws.com] out: \u001b[K    64% |████████████████████▌           | 2.0MB 39.8MB/s eta 0:00:01\n",
      "[ec2-user@ec2-54-173-26-62.compute-1.amazonaws.com] out: \u001b[K    64% |████████████████████▋           | 2.0MB 39.3MB/s eta 0:00:01\n",
      "[ec2-user@ec2-54-173-26-62.compute-1.amazonaws.com] out: \u001b[K    64% |████████████████████▊           | 2.0MB 39.1MB/s eta 0:00:01\n",
      "[ec2-user@ec2-54-173-26-62.compute-1.amazonaws.com] out: \u001b[K    65% |████████████████████▉           | 2.0MB 38.2MB/s eta 0:00:01\n",
      "[ec2-user@ec2-54-173-26-62.compute-1.amazonaws.com] out: \u001b[K    65% |█████████████████████           | 2.0MB 39.5MB/s eta 0:00:01\n",
      "[ec2-user@ec2-54-173-26-62.compute-1.amazonaws.com] out: \u001b[K    65% |█████████████████████           | 2.0MB 39.7MB/s eta 0:00:01\n",
      "[ec2-user@ec2-54-173-26-62.compute-1.amazonaws.com] out: \u001b[K    66% |█████████████████████▏          | 2.1MB 38.3MB/s eta 0:00:01\n",
      "[ec2-user@ec2-54-173-26-62.compute-1.amazonaws.com] out: \u001b[K    66% |█████████████████████▎          | 2.1MB 38.2MB/s eta 0:00:01\n",
      "[ec2-user@ec2-54-173-26-62.compute-1.amazonaws.com] out: \u001b[K    66% |█████████████████████▍          | 2.1MB 40.2MB/s eta 0:00:01\n",
      "[ec2-user@ec2-54-173-26-62.compute-1.amazonaws.com] out: \u001b[K    67% |█████████████████████▌          | 2.1MB 39.9MB/s eta 0:00:01\n",
      "[ec2-user@ec2-54-173-26-62.compute-1.amazonaws.com] out: \u001b[K    67% |█████████████████████▌          | 2.1MB 40.6MB/s eta 0:00:01\n",
      "[ec2-user@ec2-54-173-26-62.compute-1.amazonaws.com] out: \u001b[K    67% |█████████████████████▋          | 2.1MB 39.4MB/s eta 0:00:01\n",
      "[ec2-user@ec2-54-173-26-62.compute-1.amazonaws.com] out: \u001b[K    68% |█████████████████████▊          | 2.1MB 38.8MB/s eta 0:00:01\n",
      "[ec2-user@ec2-54-173-26-62.compute-1.amazonaws.com] out: \u001b[K    68% |█████████████████████▉          | 2.1MB 41.3MB/s eta 0:00:01\n",
      "[ec2-user@ec2-54-173-26-62.compute-1.amazonaws.com] out: \u001b[K    68% |██████████████████████          | 2.1MB 39.6MB/s eta 0:00:01\n",
      "[ec2-user@ec2-54-173-26-62.compute-1.amazonaws.com] out: \u001b[K    68% |██████████████████████          | 2.2MB 39.2MB/s eta 0:00:01\n",
      "[ec2-user@ec2-54-173-26-62.compute-1.amazonaws.com] out: \u001b[K    69% |██████████████████████▏         | 2.2MB 39.6MB/s eta 0:00:01\n",
      "[ec2-user@ec2-54-173-26-62.compute-1.amazonaws.com] out: \u001b[K    69% |██████████████████████▎         | 2.2MB 38.7MB/s eta 0:00:01\n",
      "[ec2-user@ec2-54-173-26-62.compute-1.amazonaws.com] out: \u001b[K    69% |██████████████████████▍         | 2.2MB 40.2MB/s eta 0:00:01\n",
      "[ec2-user@ec2-54-173-26-62.compute-1.amazonaws.com] out: \u001b[K    70% |██████████████████████▌         | 2.2MB 40.1MB/s eta 0:00:01\n",
      "[ec2-user@ec2-54-173-26-62.compute-1.amazonaws.com] out: \u001b[K    70% |██████████████████████▋         | 2.2MB 39.6MB/s eta 0:00:01\n",
      "[ec2-user@ec2-54-173-26-62.compute-1.amazonaws.com] out: \u001b[K    70% |██████████████████████▊         | 2.2MB 41.0MB/s eta 0:00:01\n",
      "[ec2-user@ec2-54-173-26-62.compute-1.amazonaws.com] out: \u001b[K    71% |██████████████████████▉         | 2.2MB 39.2MB/s eta 0:00:01\n",
      "[ec2-user@ec2-54-173-26-62.compute-1.amazonaws.com] out: \u001b[K    71% |███████████████████████         | 2.2MB 38.1MB/s eta 0:00:01\n",
      "[ec2-user@ec2-54-173-26-62.compute-1.amazonaws.com] out: \u001b[K    71% |███████████████████████         | 2.2MB 39.8MB/s eta 0:00:01\n",
      "[ec2-user@ec2-54-173-26-62.compute-1.amazonaws.com] out: \u001b[K    72% |███████████████████████▏        | 2.3MB 37.8MB/s eta 0:00:01\n",
      "[ec2-user@ec2-54-173-26-62.compute-1.amazonaws.com] out: \u001b[K    72% |███████████████████████▎        | 2.3MB 39.2MB/s eta 0:00:01\n",
      "[ec2-user@ec2-54-173-26-62.compute-1.amazonaws.com] out: \u001b[K    72% |███████████████████████▍        | 2.3MB 39.6MB/s eta 0:00:01\n",
      "[ec2-user@ec2-54-173-26-62.compute-1.amazonaws.com] out: \u001b[K    73% |███████████████████████▌        | 2.3MB 39.2MB/s eta 0:00:01\n",
      "[ec2-user@ec2-54-173-26-62.compute-1.amazonaws.com] out: \u001b[K    73% |███████████████████████▌        | 2.3MB 41.1MB/s eta 0:00:01\n",
      "[ec2-user@ec2-54-173-26-62.compute-1.amazonaws.com] out: \u001b[K    73% |███████████████████████▋        | 2.3MB 40.5MB/s eta 0:00:01\n",
      "[ec2-user@ec2-54-173-26-62.compute-1.amazonaws.com] out: \u001b[K    74% |███████████████████████▊        | 2.3MB 40.9MB/s eta 0:00:01\n",
      "[ec2-user@ec2-54-173-26-62.compute-1.amazonaws.com] out: \u001b[K    74% |███████████████████████▉        | 2.3MB 41.6MB/s eta 0:00:01\n",
      "[ec2-user@ec2-54-173-26-62.compute-1.amazonaws.com] out: \u001b[K    74% |████████████████████████        | 2.3MB 40.4MB/s eta 0:00:01\n",
      "[ec2-user@ec2-54-173-26-62.compute-1.amazonaws.com] out: \u001b[K    75% |████████████████████████        | 2.3MB 40.5MB/s eta 0:00:01\n",
      "[ec2-user@ec2-54-173-26-62.compute-1.amazonaws.com] out: \u001b[K    75% |████████████████████████▏       | 2.4MB 40.9MB/s eta 0:00:01\n",
      "[ec2-user@ec2-54-173-26-62.compute-1.amazonaws.com] out: \u001b[K    75% |████████████████████████▎       | 2.4MB 39.9MB/s eta 0:00:01\n",
      "[ec2-user@ec2-54-173-26-62.compute-1.amazonaws.com] out: \u001b[K    76% |████████████████████████▍       | 2.4MB 40.0MB/s eta 0:00:01\n",
      "[ec2-user@ec2-54-173-26-62.compute-1.amazonaws.com] out: \u001b[K    76% |████████████████████████▌       | 2.4MB 38.6MB/s eta 0:00:01\n",
      "[ec2-user@ec2-54-173-26-62.compute-1.amazonaws.com] out: \u001b[K    76% |████████████████████████▋       | 2.4MB 38.5MB/s eta 0:00:01\n",
      "[ec2-user@ec2-54-173-26-62.compute-1.amazonaws.com] out: \u001b[K    77% |████████████████████████▊       | 2.4MB 39.1MB/s eta 0:00:01\n",
      "[ec2-user@ec2-54-173-26-62.compute-1.amazonaws.com] out: \u001b[K    77% |████████████████████████▉       | 2.4MB 37.2MB/s eta 0:00:01\n",
      "[ec2-user@ec2-54-173-26-62.compute-1.amazonaws.com] out: \u001b[K    77% |█████████████████████████       | 2.4MB 38.6MB/s eta 0:00:01\n",
      "[ec2-user@ec2-54-173-26-62.compute-1.amazonaws.com] out: \u001b[K    78% |█████████████████████████       | 2.4MB 40.3MB/s eta 0:00:01\n",
      "[ec2-user@ec2-54-173-26-62.compute-1.amazonaws.com] out: \u001b[K    78% |█████████████████████████▏      | 2.4MB 40.6MB/s eta 0:00:01\n",
      "[ec2-user@ec2-54-173-26-62.compute-1.amazonaws.com] out: \u001b[K    78% |█████████████████████████▎      | 2.5MB 41.8MB/s eta 0:00:01\n",
      "[ec2-user@ec2-54-173-26-62.compute-1.amazonaws.com] out: \u001b[K    79% |█████████████████████████▍      | 2.5MB 41.5MB/s eta 0:00:01\n",
      "[ec2-user@ec2-54-173-26-62.compute-1.amazonaws.com] out: \u001b[K    79% |█████████████████████████▍      | 2.5MB 42.0MB/s eta 0:00:01\n",
      "[ec2-user@ec2-54-173-26-62.compute-1.amazonaws.com] out: \u001b[K    79% |█████████████████████████▌      | 2.5MB 41.2MB/s eta 0:00:01\n",
      "[ec2-user@ec2-54-173-26-62.compute-1.amazonaws.com] out: \u001b[K    80% |█████████████████████████▋      | 2.5MB 39.4MB/s eta 0:00:01\n",
      "[ec2-user@ec2-54-173-26-62.compute-1.amazonaws.com] out: \u001b[K    80% |█████████████████████████▊      | 2.5MB 38.8MB/s eta 0:00:01\n",
      "[ec2-user@ec2-54-173-26-62.compute-1.amazonaws.com] out: \u001b[K    80% |█████████████████████████▉      | 2.5MB 40.4MB/s eta 0:00:01\n",
      "[ec2-user@ec2-54-173-26-62.compute-1.amazonaws.com] out: \u001b[K    81% |██████████████████████████      | 2.5MB 39.4MB/s eta 0:00:01\n",
      "[ec2-user@ec2-54-173-26-62.compute-1.amazonaws.com] out: \u001b[K    81% |██████████████████████████      | 2.5MB 39.3MB/s eta 0:00:01\n",
      "[ec2-user@ec2-54-173-26-62.compute-1.amazonaws.com] out: \u001b[K    81% |██████████████████████████▏     | 2.5MB 37.9MB/s eta 0:00:01\n",
      "[ec2-user@ec2-54-173-26-62.compute-1.amazonaws.com] out: \u001b[K    82% |██████████████████████████▎     | 2.6MB 38.5MB/s eta 0:00:01\n",
      "[ec2-user@ec2-54-173-26-62.compute-1.amazonaws.com] out: \u001b[K    82% |██████████████████████████▍     | 2.6MB 38.6MB/s eta 0:00:01\n",
      "[ec2-user@ec2-54-173-26-62.compute-1.amazonaws.com] out: \u001b[K    82% |██████████████████████████▌     | 2.6MB 36.5MB/s eta 0:00:01\n",
      "[ec2-user@ec2-54-173-26-62.compute-1.amazonaws.com] out: \u001b[K    83% |██████████████████████████▋     | 2.6MB 38.6MB/s eta 0:00:01\n",
      "[ec2-user@ec2-54-173-26-62.compute-1.amazonaws.com] out: \u001b[K    83% |██████████████████████████▊     | 2.6MB 40.0MB/s eta 0:00:01\n",
      "[ec2-user@ec2-54-173-26-62.compute-1.amazonaws.com] out: \u001b[K    83% |██████████████████████████▉     | 2.6MB 40.4MB/s eta 0:00:01\n",
      "[ec2-user@ec2-54-173-26-62.compute-1.amazonaws.com] out: \u001b[K    84% |███████████████████████████     | 2.6MB 39.7MB/s eta 0:00:01\n",
      "[ec2-user@ec2-54-173-26-62.compute-1.amazonaws.com] out: \u001b[K    84% |███████████████████████████     | 2.6MB 38.8MB/s eta 0:00:01\n",
      "[ec2-user@ec2-54-173-26-62.compute-1.amazonaws.com] out: \u001b[K    84% |███████████████████████████▏    | 2.6MB 39.1MB/s eta 0:00:01\n",
      "[ec2-user@ec2-54-173-26-62.compute-1.amazonaws.com] out: \u001b[K    85% |███████████████████████████▎    | 2.7MB 40.4MB/s eta 0:00:01\n",
      "[ec2-user@ec2-54-173-26-62.compute-1.amazonaws.com] out: \u001b[K    85% |███████████████████████████▍    | 2.7MB 38.9MB/s eta 0:00:01\n",
      "[ec2-user@ec2-54-173-26-62.compute-1.amazonaws.com] out: \u001b[K    85% |███████████████████████████▍    | 2.7MB 40.1MB/s eta 0:00:01\n",
      "[ec2-user@ec2-54-173-26-62.compute-1.amazonaws.com] out: \u001b[K    86% |███████████████████████████▌    | 2.7MB 40.6MB/s eta 0:00:01\n",
      "[ec2-user@ec2-54-173-26-62.compute-1.amazonaws.com] out: \u001b[K    86% |███████████████████████████▋    | 2.7MB 40.1MB/s eta 0:00:01\n",
      "[ec2-user@ec2-54-173-26-62.compute-1.amazonaws.com] out: \u001b[K    86% |███████████████████████████▊    | 2.7MB 40.5MB/s eta 0:00:01\n",
      "[ec2-user@ec2-54-173-26-62.compute-1.amazonaws.com] out: \u001b[K    87% |███████████████████████████▉    | 2.7MB 38.7MB/s eta 0:00:01\n",
      "[ec2-user@ec2-54-173-26-62.compute-1.amazonaws.com] out: \u001b[K    87% |████████████████████████████    | 2.7MB 40.0MB/s eta 0:00:01\n",
      "[ec2-user@ec2-54-173-26-62.compute-1.amazonaws.com] out: \u001b[K    87% |████████████████████████████    | 2.7MB 40.5MB/s eta 0:00:01\n",
      "[ec2-user@ec2-54-173-26-62.compute-1.amazonaws.com] out: \u001b[K    88% |████████████████████████████▏   | 2.7MB 39.9MB/s eta 0:00:01\n",
      "[ec2-user@ec2-54-173-26-62.compute-1.amazonaws.com] out: \u001b[K    88% |████████████████████████████▎   | 2.8MB 40.4MB/s eta 0:00:01\n",
      "[ec2-user@ec2-54-173-26-62.compute-1.amazonaws.com] out: \u001b[K    88% |████████████████████████████▍   | 2.8MB 42.1MB/s eta 0:00:01\n",
      "[ec2-user@ec2-54-173-26-62.compute-1.amazonaws.com] out: \u001b[K    89% |████████████████████████████▌   | 2.8MB 41.6MB/s eta 0:00:01\n",
      "[ec2-user@ec2-54-173-26-62.compute-1.amazonaws.com] out: \u001b[K    89% |████████████████████████████▋   | 2.8MB 43.8MB/s eta 0:00:01\n",
      "[ec2-user@ec2-54-173-26-62.compute-1.amazonaws.com] out: \u001b[K    89% |████████████████████████████▊   | 2.8MB 44.2MB/s eta 0:00:01\n",
      "[ec2-user@ec2-54-173-26-62.compute-1.amazonaws.com] out: \u001b[K    90% |████████████████████████████▉   | 2.8MB 44.4MB/s eta 0:00:01\n",
      "[ec2-user@ec2-54-173-26-62.compute-1.amazonaws.com] out: \u001b[K    90% |█████████████████████████████   | 2.8MB 46.7MB/s eta 0:00:01\n",
      "[ec2-user@ec2-54-173-26-62.compute-1.amazonaws.com] out: \u001b[K    90% |█████████████████████████████   | 2.8MB 46.6MB/s eta 0:00:01\n",
      "[ec2-user@ec2-54-173-26-62.compute-1.amazonaws.com] out: \u001b[K    91% |█████████████████████████████▏  | 2.8MB 49.1MB/s eta 0:00:01\n",
      "[ec2-user@ec2-54-173-26-62.compute-1.amazonaws.com] out: \u001b[K    91% |█████████████████████████████▎  | 2.8MB 50.3MB/s eta 0:00:01\n",
      "[ec2-user@ec2-54-173-26-62.compute-1.amazonaws.com] out: \u001b[K    91% |█████████████████████████████▎  | 2.9MB 49.3MB/s eta 0:00:01\n",
      "[ec2-user@ec2-54-173-26-62.compute-1.amazonaws.com] out: \u001b[K    91% |█████████████████████████████▍  | 2.9MB 49.7MB/s eta 0:00:01\n",
      "[ec2-user@ec2-54-173-26-62.compute-1.amazonaws.com] out: \u001b[K    92% |█████████████████████████████▌  | 2.9MB 50.3MB/s eta 0:00:01\n",
      "[ec2-user@ec2-54-173-26-62.compute-1.amazonaws.com] out: \u001b[K    92% |█████████████████████████████▋  | 2.9MB 50.3MB/s eta 0:00:01\n",
      "[ec2-user@ec2-54-173-26-62.compute-1.amazonaws.com] out: \u001b[K    92% |█████████████████████████████▊  | 2.9MB 50.2MB/s eta 0:00:01\n",
      "[ec2-user@ec2-54-173-26-62.compute-1.amazonaws.com] out: \u001b[K    93% |█████████████████████████████▉  | 2.9MB 49.6MB/s eta 0:00:01\n",
      "[ec2-user@ec2-54-173-26-62.compute-1.amazonaws.com] out: \u001b[K    93% |██████████████████████████████  | 2.9MB 50.5MB/s eta 0:00:01\n",
      "[ec2-user@ec2-54-173-26-62.compute-1.amazonaws.com] out: \u001b[K    93% |██████████████████████████████  | 2.9MB 50.6MB/s eta 0:00:01\n",
      "[ec2-user@ec2-54-173-26-62.compute-1.amazonaws.com] out: \u001b[K    94% |██████████████████████████████▏ | 2.9MB 49.8MB/s eta 0:00:01\n",
      "[ec2-user@ec2-54-173-26-62.compute-1.amazonaws.com] out: \u001b[K    94% |██████████████████████████████▎ | 2.9MB 50.3MB/s eta 0:00:01\n",
      "[ec2-user@ec2-54-173-26-62.compute-1.amazonaws.com] out: \u001b[K    94% |██████████████████████████████▍ | 3.0MB 51.0MB/s eta 0:00:01\n",
      "[ec2-user@ec2-54-173-26-62.compute-1.amazonaws.com] out: \u001b[K    95% |██████████████████████████████▌ | 3.0MB 51.2MB/s eta 0:00:01\n",
      "[ec2-user@ec2-54-173-26-62.compute-1.amazonaws.com] out: \u001b[K    95% |██████████████████████████████▋ | 3.0MB 51.1MB/s eta 0:00:01\n",
      "[ec2-user@ec2-54-173-26-62.compute-1.amazonaws.com] out: \u001b[K    95% |██████████████████████████████▊ | 3.0MB 50.5MB/s eta 0:00:01\n",
      "[ec2-user@ec2-54-173-26-62.compute-1.amazonaws.com] out: \u001b[K    96% |██████████████████████████████▉ | 3.0MB 51.1MB/s eta 0:00:01\n",
      "[ec2-user@ec2-54-173-26-62.compute-1.amazonaws.com] out: \u001b[K    96% |███████████████████████████████ | 3.0MB 51.3MB/s eta 0:00:01\n",
      "[ec2-user@ec2-54-173-26-62.compute-1.amazonaws.com] out: \u001b[K    96% |███████████████████████████████ | 3.0MB 50.1MB/s eta 0:00:01\n",
      "[ec2-user@ec2-54-173-26-62.compute-1.amazonaws.com] out: \u001b[K    97% |███████████████████████████████▏| 3.0MB 50.7MB/s eta 0:00:01\n",
      "[ec2-user@ec2-54-173-26-62.compute-1.amazonaws.com] out: \u001b[K    97% |███████████████████████████████▎| 3.0MB 50.4MB/s eta 0:00:01\n",
      "[ec2-user@ec2-54-173-26-62.compute-1.amazonaws.com] out: \u001b[K    97% |███████████████████████████████▎| 3.1MB 50.4MB/s eta 0:00:01\n",
      "[ec2-user@ec2-54-173-26-62.compute-1.amazonaws.com] out: \u001b[K    98% |███████████████████████████████▍| 3.1MB 50.3MB/s eta 0:00:01\n",
      "[ec2-user@ec2-54-173-26-62.compute-1.amazonaws.com] out: \u001b[K    98% |███████████████████████████████▌| 3.1MB 49.4MB/s eta 0:00:01\n",
      "[ec2-user@ec2-54-173-26-62.compute-1.amazonaws.com] out: \u001b[K    98% |███████████████████████████████▋| 3.1MB 50.0MB/s eta 0:00:01\n",
      "[ec2-user@ec2-54-173-26-62.compute-1.amazonaws.com] out: \u001b[K    99% |███████████████████████████████▊| 3.1MB 50.1MB/s eta 0:00:01\n",
      "[ec2-user@ec2-54-173-26-62.compute-1.amazonaws.com] out: \u001b[K    99% |███████████████████████████████▉| 3.1MB 49.5MB/s eta 0:00:01\n",
      "[ec2-user@ec2-54-173-26-62.compute-1.amazonaws.com] out: \u001b[K    99% |████████████████████████████████| 3.1MB 50.2MB/s eta 0:00:01\n",
      "[ec2-user@ec2-54-173-26-62.compute-1.amazonaws.com] out: \u001b[K    100% |████████████████████████████████| 3.1MB 432kB/s \n",
      "[ec2-user@ec2-54-173-26-62.compute-1.amazonaws.com] out: \u001b[?25hRequirement already up-to-date: pyyaml in /usr/lib64/python3.4/dist-packages (from Keras==2.0.4)\n",
      "[ec2-user@ec2-54-173-26-62.compute-1.amazonaws.com] out: Requirement already up-to-date: six in /usr/lib/python3.4/dist-packages (from Keras==2.0.4)\n",
      "[ec2-user@ec2-54-173-26-62.compute-1.amazonaws.com] out: Requirement already up-to-date: numpy>=1.9.1 in /usr/lib64/python3.4/dist-packages (from theano->Keras==2.0.4)\n",
      "[ec2-user@ec2-54-173-26-62.compute-1.amazonaws.com] out: Requirement already up-to-date: scipy>=0.14 in /usr/lib64/python3.4/dist-packages (from theano->Keras==2.0.4)\n",
      "[ec2-user@ec2-54-173-26-62.compute-1.amazonaws.com] out: Building wheels for collected packages: theano\n",
      "[ec2-user@ec2-54-173-26-62.compute-1.amazonaws.com] out:   Running setup.py bdist_wheel for theano ... \u001b[?25l-\b \b\\\b \b|\b \b/\b \b-\b \bdone\n",
      "[ec2-user@ec2-54-173-26-62.compute-1.amazonaws.com] out: \u001b[?25h  Stored in directory: /root/.cache/pip/wheels/d5/5b/93/433299b86e3e9b25f0f600e4e4ebf18e38eb7534ea518eba13\n",
      "[ec2-user@ec2-54-173-26-62.compute-1.amazonaws.com] out: Successfully built theano\n",
      "[ec2-user@ec2-54-173-26-62.compute-1.amazonaws.com] out: Installing collected packages: theano, Keras\n",
      "[ec2-user@ec2-54-173-26-62.compute-1.amazonaws.com] out:   Found existing installation: Theano 0.8.2\n",
      "[ec2-user@ec2-54-173-26-62.compute-1.amazonaws.com] out:     Uninstalling Theano-0.8.2:\n",
      "[ec2-user@ec2-54-173-26-62.compute-1.amazonaws.com] out:       Successfully uninstalled Theano-0.8.2\n",
      "[ec2-user@ec2-54-173-26-62.compute-1.amazonaws.com] out:   Found existing installation: Keras 1.2.2\n",
      "[ec2-user@ec2-54-173-26-62.compute-1.amazonaws.com] out:     Uninstalling Keras-1.2.2:\n",
      "[ec2-user@ec2-54-173-26-62.compute-1.amazonaws.com] out:       Successfully uninstalled Keras-1.2.2\n",
      "[ec2-user@ec2-54-173-26-62.compute-1.amazonaws.com] out:   Running setup.py install for Keras ... \u001b[?25l-\b \b\\\b \b|\b \bdone\n",
      "[ec2-user@ec2-54-173-26-62.compute-1.amazonaws.com] out: \u001b[?25hSuccessfully installed Keras-2.0.4 theano-0.9.0\n",
      "[ec2-user@ec2-54-173-26-62.compute-1.amazonaws.com] out: \n",
      "\n",
      "[ec2-user@ec2-54-173-26-62.compute-1.amazonaws.com] run: sudo pip3 install pydot\n",
      "[ec2-user@ec2-54-173-26-62.compute-1.amazonaws.com] out: Collecting pydot\n",
      "[ec2-user@ec2-54-173-26-62.compute-1.amazonaws.com] out:   Downloading pydot-1.2.3.tar.gz\n",
      "[ec2-user@ec2-54-173-26-62.compute-1.amazonaws.com] out: Requirement already satisfied: pyparsing>=2.1.4 in /usr/lib/python3.4/dist-packages (from pydot)\n",
      "[ec2-user@ec2-54-173-26-62.compute-1.amazonaws.com] out: Building wheels for collected packages: pydot\n",
      "[ec2-user@ec2-54-173-26-62.compute-1.amazonaws.com] out:   Running setup.py bdist_wheel for pydot ... \u001b[?25l-\b \bdone\n",
      "[ec2-user@ec2-54-173-26-62.compute-1.amazonaws.com] out: \u001b[?25h  Stored in directory: /root/.cache/pip/wheels/47/8c/c2/4ac7bd0219b4ce5e08d03dc3467014c7a94b2efecfc29df2b2\n",
      "[ec2-user@ec2-54-173-26-62.compute-1.amazonaws.com] out: Successfully built pydot\n",
      "[ec2-user@ec2-54-173-26-62.compute-1.amazonaws.com] out: Installing collected packages: pydot\n",
      "[ec2-user@ec2-54-173-26-62.compute-1.amazonaws.com] out: Successfully installed pydot-1.2.3\n",
      "[ec2-user@ec2-54-173-26-62.compute-1.amazonaws.com] out: \n",
      "\n",
      "[ec2-user@ec2-54-173-26-62.compute-1.amazonaws.com] run: sudo pip3 install graphviz\n",
      "[ec2-user@ec2-54-173-26-62.compute-1.amazonaws.com] out: Requirement already satisfied: graphviz in /usr/lib/python3.4/dist-packages\n",
      "[ec2-user@ec2-54-173-26-62.compute-1.amazonaws.com] out: \n",
      "\n"
     ]
    }
   ],
   "source": [
    "benchmark_td1.configureInstances()"
   ]
  },
  {
   "cell_type": "code",
   "execution_count": 47,
   "metadata": {
    "collapsed": false
   },
   "outputs": [
    {
     "name": "stdout",
     "output_type": "stream",
     "text": [
      "[ec2-user@ec2-54-173-26-62.compute-1.amazonaws.com] run: nohup python3 -u test_mnist_kerasdef.py         --dataset mnist --architecture kerasdef --run_date 20170530         >20170530_mnist_kerasdef.log 2>20170530_mnist_kerasdef.err < /dev/null &\n",
      "[ec2-user@ec2-54-173-26-62.compute-1.amazonaws.com] run: pgrep -f \"python3 -u test\"\n",
      "[ec2-user@ec2-54-173-26-62.compute-1.amazonaws.com] out: 2907\n",
      "[ec2-user@ec2-54-173-26-62.compute-1.amazonaws.com] out: \n",
      "\n"
     ]
    }
   ],
   "source": [
    "benchmark_td1.runExperiments()"
   ]
  },
  {
   "cell_type": "code",
   "execution_count": 49,
   "metadata": {
    "collapsed": false
   },
   "outputs": [],
   "source": [
    "def rSync(public_dns):\n",
    "    fabric.operations.local('rsync -aL -e \"ssh -i ~/.ssh/{}.pem -o StrictHostKeyChecking=no\" \\\n",
    "    --include=\"/home/ec2-user/*\" --include=\"*.log\" --include=\"*.err\" \\\n",
    "    --include=\"*.out\" --include=\"*.png\" --exclude=\"*\" \\\n",
    "    ec2-user@{}:/home/ec2-user/ \\\n",
    "    ~/Studia/mgr/deepcloud/tests/logs/'\\\n",
    "                            .format('dpcld_test1',public_dns))"
   ]
  },
  {
   "cell_type": "code",
   "execution_count": null,
   "metadata": {
    "collapsed": false,
    "scrolled": true
   },
   "outputs": [
    {
     "name": "stdout",
     "output_type": "stream",
     "text": [
      "[localhost] local: rsync -aL -e \"ssh -i ~/.ssh/dpcld_test1.pem -o StrictHostKeyChecking=no\"     --include=\"/home/ec2-user/*\" --include=\"*.log\" --include=\"*.err\"     --include=\"*.out\" --include=\"*.png\" --exclude=\"*\"     ec2-user@ec2-54-173-26-62.compute-1.amazonaws.com:/home/ec2-user/     ~/Studia/mgr/deepcloud/tests/logs/\n",
      "[ec2-user@ec2-54-173-26-62.compute-1.amazonaws.com] run: pgrep -f \"python3 -u test\"\n",
      "[ec2-user@ec2-54-173-26-62.compute-1.amazonaws.com] out: 2907\n",
      "[ec2-user@ec2-54-173-26-62.compute-1.amazonaws.com] out: \n",
      "\n",
      "2017-05-30T14:35:59.890961: synchronized logs from all instances\n",
      "[localhost] local: rsync -aL -e \"ssh -i ~/.ssh/dpcld_test1.pem -o StrictHostKeyChecking=no\"     --include=\"/home/ec2-user/*\" --include=\"*.log\" --include=\"*.err\"     --include=\"*.out\" --include=\"*.png\" --exclude=\"*\"     ec2-user@ec2-54-173-26-62.compute-1.amazonaws.com:/home/ec2-user/     ~/Studia/mgr/deepcloud/tests/logs/\n",
      "[ec2-user@ec2-54-173-26-62.compute-1.amazonaws.com] run: pgrep -f \"python3 -u test\"\n",
      "[ec2-user@ec2-54-173-26-62.compute-1.amazonaws.com] out: 2907\n",
      "[ec2-user@ec2-54-173-26-62.compute-1.amazonaws.com] out: \n",
      "\n",
      "2017-05-30T14:36:04.875500: synchronized logs from all instances\n",
      "[localhost] local: rsync -aL -e \"ssh -i ~/.ssh/dpcld_test1.pem -o StrictHostKeyChecking=no\"     --include=\"/home/ec2-user/*\" --include=\"*.log\" --include=\"*.err\"     --include=\"*.out\" --include=\"*.png\" --exclude=\"*\"     ec2-user@ec2-54-173-26-62.compute-1.amazonaws.com:/home/ec2-user/     ~/Studia/mgr/deepcloud/tests/logs/\n",
      "[ec2-user@ec2-54-173-26-62.compute-1.amazonaws.com] run: pgrep -f \"python3 -u test\"\n",
      "[ec2-user@ec2-54-173-26-62.compute-1.amazonaws.com] out: 2907\n",
      "[ec2-user@ec2-54-173-26-62.compute-1.amazonaws.com] out: \n",
      "\n",
      "2017-05-30T14:36:09.273196: synchronized logs from all instances\n",
      "[localhost] local: rsync -aL -e \"ssh -i ~/.ssh/dpcld_test1.pem -o StrictHostKeyChecking=no\"     --include=\"/home/ec2-user/*\" --include=\"*.log\" --include=\"*.err\"     --include=\"*.out\" --include=\"*.png\" --exclude=\"*\"     ec2-user@ec2-54-173-26-62.compute-1.amazonaws.com:/home/ec2-user/     ~/Studia/mgr/deepcloud/tests/logs/\n",
      "[ec2-user@ec2-54-173-26-62.compute-1.amazonaws.com] run: pgrep -f \"python3 -u test\"\n",
      "[ec2-user@ec2-54-173-26-62.compute-1.amazonaws.com] out: 2907\n",
      "[ec2-user@ec2-54-173-26-62.compute-1.amazonaws.com] out: \n",
      "\n",
      "2017-05-30T14:36:13.732956: synchronized logs from all instances\n",
      "[localhost] local: rsync -aL -e \"ssh -i ~/.ssh/dpcld_test1.pem -o StrictHostKeyChecking=no\"     --include=\"/home/ec2-user/*\" --include=\"*.log\" --include=\"*.err\"     --include=\"*.out\" --include=\"*.png\" --exclude=\"*\"     ec2-user@ec2-54-173-26-62.compute-1.amazonaws.com:/home/ec2-user/     ~/Studia/mgr/deepcloud/tests/logs/\n",
      "[ec2-user@ec2-54-173-26-62.compute-1.amazonaws.com] run: pgrep -f \"python3 -u test\"\n",
      "[ec2-user@ec2-54-173-26-62.compute-1.amazonaws.com] out: 2907\n",
      "[ec2-user@ec2-54-173-26-62.compute-1.amazonaws.com] out: \n",
      "\n",
      "2017-05-30T14:36:18.678021: synchronized logs from all instances\n",
      "[localhost] local: rsync -aL -e \"ssh -i ~/.ssh/dpcld_test1.pem -o StrictHostKeyChecking=no\"     --include=\"/home/ec2-user/*\" --include=\"*.log\" --include=\"*.err\"     --include=\"*.out\" --include=\"*.png\" --exclude=\"*\"     ec2-user@ec2-54-173-26-62.compute-1.amazonaws.com:/home/ec2-user/     ~/Studia/mgr/deepcloud/tests/logs/\n"
     ]
    }
   ],
   "source": [
    "benchmark_td1.getExperimentLogs()"
   ]
  },
  {
   "cell_type": "code",
   "execution_count": 40,
   "metadata": {
    "collapsed": true
   },
   "outputs": [],
   "source": [
    "term_responses = [_.terminate() for _ in benchmark_td1.instances]"
   ]
  },
  {
   "cell_type": "code",
   "execution_count": null,
   "metadata": {
    "collapsed": false
   },
   "outputs": [],
   "source": [
    "for i in instance_types:\n",
    "    print(i)"
   ]
  },
  {
   "cell_type": "code",
   "execution_count": null,
   "metadata": {
    "collapsed": true
   },
   "outputs": [],
   "source": [
    "image_id=\"ami-a3b3d4b5\"\n",
    "key_name='dpcld_test1'"
   ]
  },
  {
   "cell_type": "code",
   "execution_count": null,
   "metadata": {
    "collapsed": true
   },
   "outputs": [],
   "source": [
    "client = boto3.client('ec2')\n",
    "ec2 = boto3.resource('ec2')"
   ]
  },
  {
   "cell_type": "code",
   "execution_count": null,
   "metadata": {
    "collapsed": false
   },
   "outputs": [],
   "source": [
    "num_inst = len(experiments)"
   ]
  },
  {
   "cell_type": "code",
   "execution_count": null,
   "metadata": {
    "collapsed": false
   },
   "outputs": [],
   "source": [
    "# rynek spot\n",
    "'''\n",
    "spotprices = client.describe_spot_price_history(InstanceTypes=['c4.2xlarge','p2.xlarge'],\n",
    "                                                StartTime=datetime.datetime.today()-datetime.timedelta(0.5),\n",
    "                                                EndTime=datetime.datetime.today()\n",
    "                                               )['SpotPriceHistory']\n",
    "prices = pd.DataFrame.from_records([(x.get('Timestamp'),x.get('InstanceType'),x.get('SpotPrice')) for x in spotprices])\n",
    "prices[2] = prices[2].astype(float)\n",
    "prices[4] = prices[0].apply(lambda x: x.date())\n",
    "prices.pivot_table(index=4, columns=1, values=2, aggfunc='median')\n",
    "%matplotlib inline\n",
    "prices.pivot_table(index=0, columns=1, values=2, aggfunc='mean').plot()\n",
    "spot_specs = {\"ImageID\":\"ami-4191b524\",\n",
    "             \"InstanceType\":\"t2.micro\",\n",
    "             \"Placement\":{\"AvailabilityZone\":\"us-east-2\"}}\n",
    "#spot\n",
    "response = client.request_spot_instances(SpotPrice = ,\n",
    "                                       LaunchSpecification = )\n",
    "'''"
   ]
  },
  {
   "cell_type": "code",
   "execution_count": null,
   "metadata": {
    "collapsed": false
   },
   "outputs": [],
   "source": [
    "len(response.get('Instances'))"
   ]
  },
  {
   "cell_type": "code",
   "execution_count": null,
   "metadata": {
    "collapsed": false
   },
   "outputs": [],
   "source": [
    "response.get('HTTPStatusCode')"
   ]
  },
  {
   "cell_type": "code",
   "execution_count": null,
   "metadata": {
    "collapsed": false
   },
   "outputs": [],
   "source": [
    "#key pair\n",
    "response = client.run_instances(ImageId=image_id,\n",
    "                                InstanceType=instance_type,\n",
    "                                MinCount=num_inst,\n",
    "                                MaxCount=num_inst,\n",
    "                                KeyName=key_name\n",
    "                               )\n",
    "#_instanceId=response.get('Instances')[0].get('InstanceId')"
   ]
  },
  {
   "cell_type": "code",
   "execution_count": null,
   "metadata": {
    "collapsed": false
   },
   "outputs": [],
   "source": [
    "instance_ids = []\n",
    "instance_ids.extend([_.get('InstanceId') for _ in response.get('Instances')])"
   ]
  },
  {
   "cell_type": "code",
   "execution_count": null,
   "metadata": {
    "collapsed": false
   },
   "outputs": [],
   "source": [
    "instances = [ec2.Instance(_) for _ in instance_ids]"
   ]
  },
  {
   "cell_type": "code",
   "execution_count": null,
   "metadata": {
    "collapsed": false
   },
   "outputs": [],
   "source": [
    "waiter = client.get_waiter('instance_status_ok')\n",
    "waiter.wait(InstanceIds=instance_ids)"
   ]
  },
  {
   "cell_type": "code",
   "execution_count": null,
   "metadata": {
    "collapsed": false
   },
   "outputs": [],
   "source": [
    "p_ids = []\n",
    "def configureInstance(instance, p_ids=p_ids):\n",
    "    env.host_string = 'ec2-user@{}'.format(instance.public_dns_name)\n",
    "    env.key_filename = '~/.ssh/dpcld_test1.pem'.format(key_name)\n",
    "    env.disable_known_hosts\n",
    "    fabric.operations.put('~/Studia/mgr/deepcloud/tests/test_mnist.py', '.')\n",
    "    run('sudo pip3 install git+git://github.com/fchollet/keras.git --upgrade')\n",
    "    run('sudo pip3 install pydot')\n",
    "    run('sudo pip3 install graphviz')\n",
    "    run('nohup python3 -u test_mnist.py >test_mnist.log 2>test_mnist.err < /dev/null &', pty=False)\n",
    "    p_ids.append({instance.id:run('pgrep -f \"python3 -u test\"')})"
   ]
  },
  {
   "cell_type": "code",
   "execution_count": null,
   "metadata": {
    "collapsed": false,
    "scrolled": true
   },
   "outputs": [],
   "source": [
    "configureInstance(instances[0])"
   ]
  },
  {
   "cell_type": "code",
   "execution_count": null,
   "metadata": {
    "collapsed": false
   },
   "outputs": [],
   "source": [
    "term_responses = [_.terminate() for _ in instances]"
   ]
  },
  {
   "cell_type": "code",
   "execution_count": null,
   "metadata": {
    "collapsed": false
   },
   "outputs": [],
   "source": [
    "term_responses"
   ]
  }
 ],
 "metadata": {
  "kernelspec": {
   "display_name": "Python 3",
   "language": "python",
   "name": "python3"
  },
  "language_info": {
   "codemirror_mode": {
    "name": "ipython",
    "version": 3
   },
   "file_extension": ".py",
   "mimetype": "text/x-python",
   "name": "python",
   "nbconvert_exporter": "python",
   "pygments_lexer": "ipython3",
   "version": "3.5.2"
  }
 },
 "nbformat": 4,
 "nbformat_minor": 2
}
