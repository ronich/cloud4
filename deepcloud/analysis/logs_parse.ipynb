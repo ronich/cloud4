{
 "cells": [
  {
   "cell_type": "code",
   "execution_count": 25,
   "metadata": {
    "collapsed": true
   },
   "outputs": [],
   "source": [
    "import re\n",
    "import os\n",
    "import json"
   ]
  },
  {
   "cell_type": "code",
   "execution_count": 26,
   "metadata": {
    "collapsed": false
   },
   "outputs": [],
   "source": [
    "files = []\n",
    "for file in os.listdir('../logs'):\n",
    "    if re.match('^2.*log', file):\n",
    "        files.append(file)"
   ]
  },
  {
   "cell_type": "code",
   "execution_count": 27,
   "metadata": {
    "collapsed": false
   },
   "outputs": [],
   "source": [
    "def parseLog(file):\n",
    "    with open('../analysis/data/{}.jsons'.format(file[:-4]), 'w') as fw:\n",
    "        with open('../logs/{}'.format(file)) as f:\n",
    "            for line in f:\n",
    "                if re.match('^(End)', line):\n",
    "                    _d = dict()\n",
    "                    _d['dataset'] = file[:-4].split('_')[1]\n",
    "                    _d['architecture'] = file[:-4].split('_')[2]\n",
    "                    _d['instance_type'] = file[:-4].split('_')[3]\n",
    "                    _d['epoch'] = line[13:].split(':')[0].strip()\n",
    "                    _d['time'] = line[13:].split(':')[1].strip()\n",
    "                elif re.match('^\\[', line):\n",
    "                    _d['batch_times'] = line.strip()\n",
    "                    with open('../logs/{}.out'.format(file[:-4])) as fo:\n",
    "                        for line in fo:\n",
    "                            if line.split(',')[0] == _d['epoch']:\n",
    "                                _d['acc'] = line.split(',')[1]\n",
    "                                _d['loss'] = line.split(',')[2]\n",
    "                                break\n",
    "                    json.dump(_d, fw)\n",
    "                    fw.write('\\n')"
   ]
  },
  {
   "cell_type": "code",
   "execution_count": 28,
   "metadata": {
    "collapsed": false
   },
   "outputs": [
    {
     "data": {
      "text/plain": [
       "[None, None, None, None, None, None, None, None, None, None, None, None]"
      ]
     },
     "execution_count": 28,
     "metadata": {},
     "output_type": "execute_result"
    }
   ],
   "source": [
    "[parseLog(file) for file in files]"
   ]
  },
  {
   "cell_type": "code",
   "execution_count": 29,
   "metadata": {
    "collapsed": false
   },
   "outputs": [
    {
     "name": "stdout",
     "output_type": "stream",
     "text": [
      "20170603_imdb_lstmkerasdef_c4.2xlarge.log\n"
     ]
    }
   ],
   "source": [
    "print(file)"
   ]
  },
  {
   "cell_type": "code",
   "execution_count": null,
   "metadata": {
    "collapsed": true
   },
   "outputs": [],
   "source": []
  }
 ],
 "metadata": {
  "kernelspec": {
   "display_name": "Python 3",
   "language": "python",
   "name": "python3"
  },
  "language_info": {
   "codemirror_mode": {
    "name": "ipython",
    "version": 3
   },
   "file_extension": ".py",
   "mimetype": "text/x-python",
   "name": "python",
   "nbconvert_exporter": "python",
   "pygments_lexer": "ipython3",
   "version": "3.5.2"
  }
 },
 "nbformat": 4,
 "nbformat_minor": 2
}
